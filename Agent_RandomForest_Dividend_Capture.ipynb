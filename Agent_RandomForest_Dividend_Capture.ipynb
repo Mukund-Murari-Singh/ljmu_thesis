{
 "cells": [
  {
   "cell_type": "markdown",
   "metadata": {},
   "source": [
    "### Dividend Capture Strategy Agent with Random Forest"
   ]
  },
  {
   "cell_type": "markdown",
   "metadata": {},
   "source": [
    "In this project, i will create the environment and an RL agent that learns to choose the best scheme of dividend investing given a dividend calendar and up-to-date market data."
   ]
  },
  {
   "cell_type": "markdown",
   "metadata": {},
   "source": [
    "Importing libraries"
   ]
  },
  {
   "cell_type": "code",
   "execution_count": 2,
   "metadata": {},
   "outputs": [],
   "source": [
    "import numpy as np, pandas as pd, matplotlib.pyplot as plt, re #, xlrd\n",
    "import datetime, pickle, math#, openpyxl\n",
    "from tqdm.notebook import tqdm_notebook\n",
    "from sklearn.metrics import precision_score, recall_score, make_scorer\n",
    "\n",
    "import random, time\n",
    "\n",
    "from sklearn.ensemble import RandomForestClassifier\n",
    "\n",
    "import warnings\n",
    "warnings.filterwarnings(\"ignore\")"
   ]
  },
  {
   "cell_type": "code",
   "execution_count": 3,
   "metadata": {},
   "outputs": [],
   "source": [
    "#from env_LR import market\n",
    "from env_classification import market"
   ]
  },
  {
   "cell_type": "code",
   "execution_count": 4,
   "metadata": {},
   "outputs": [],
   "source": [
    "training_cols2=['Due_Dividend', 'p_Open', 'p_High', 'p_Low', 'p_Close', 'p2_Close', 'p_Volume', 'Dividend/p_Pc', 'Weekday', 'Month',\n",
    " 'Week', 'p_Open/p_Close', 'p_Low/p_Close', 'p_High/p_Close', 'Open/p_Close', 'p2_Close/p_Close', 'TTO', 'TTO_MA5', 'TTO_MA45', 'ATTO_5',\n",
    " 'ATTO_45', 'Beta_22', 'Beta_64', 'MACD_short', 'MACD_Signal_short', 'MACD_hist_short', 'MACD_long', 'MACD_Signal_long',  'MACD_hist_long', 'PPO_short', 'PPO_long', 'Momentum_long', 'Momentum_short', 'StochFast_K', 'StochFast_D', 'StochSlow_K',  'StochSlow_D', 'RSI', 'Williams_R', 'ADO', 'OBV', 'CCI', 'Bias', '10_day_SMA/p_Close', '12_day_EMA/p_Close', '10_day_WMA/p_Close',\n",
    " '10_day_SMA', '12_day_EMA', '10_day_WMA', 'Quarter_1', 'Quarter_2', 'Quarter_3', 'Quarter_4', 'Rel_ExDD_-3', 'Rel_ExDD_-2',  'Rel_ExDD_-1', 'Rel_ExDD_Invalid']"
   ]
  },
  {
   "cell_type": "code",
   "execution_count": 4,
   "metadata": {},
   "outputs": [],
   "source": [
    "#Track total reward per episode and check for stability which indicated convergence\n",
    "all_episode_portfolio=[] #saving the portfolio value at end of each episode\n",
    "all_episode_rewards=[] #reward at end of each episode\n",
    "all_actions=[]\n",
    "all_episode_dividends=[]"
   ]
  },
  {
   "cell_type": "code",
   "execution_count": 5,
   "metadata": {},
   "outputs": [],
   "source": [
    "#Finding the right decay rate\n",
    "#I observed an average of xxx steps per episode. I want to reduce the epsilon to minimum value by the 3 million-th episode.\n",
    "#Hence, i will design the below decay rate where epsilon >0.5 for approximately 30% of the episodes\n",
    "#episodes_counts = np.arange(0,100)\n",
    "#epsilon = []\n",
    "#for i in range(0,100):\n",
    "#    epsilon.append(0 + (1 - 0) * np.exp(-0.028*i))\n",
    "\n",
    "#plt.plot(episodes_counts, epsilon)\n",
    "#plt.axhline(y=0.5, color='r', linestyle=':')\n",
    "#plt.axvline(x=25, color='g', linestyle=':')\n",
    "#plt.show()"
   ]
  },
  {
   "cell_type": "code",
   "execution_count": 6,
   "metadata": {},
   "outputs": [],
   "source": [
    "class RFAgent:\n",
    "    def __init__(self):\n",
    "\n",
    "        # create model\n",
    "        self.model = self.build_model()\n",
    "\n",
    "        # lists for the states, actions and rewards\n",
    "        self.states, self.actions, self.rewards = [], [], []\n",
    "        \n",
    "        #Set epsilon for decay\n",
    "        self.epsilon_max = 1.0\n",
    "        self.epsilon_decay = np.exp(-0.028) \n",
    "        self.epsilon_min = 0.00000001      \n",
    "        self.epsilon=self.epsilon_max\n",
    "    \n",
    "    def build_model(self):\n",
    "        model = RandomForestClassifier(n_estimators=800, criterion='gini', max_depth=5, max_features='auto', \n",
    "                          random_state=40, class_weight='balanced')\n",
    "        return model\n",
    "    \n",
    "    def get_action(self, state, encoded_state, episode):\n",
    "        valid_actions=env.get_valid_actions(state)\n",
    "        valid_actions_idx=[env.action_space.index(i) for i in valid_actions]\n",
    "        z=np.random.rand()\n",
    "        if (z <= self.epsilon) or (episode<1):                         #if z<=epsilon, then go exploration; select random action from all possible actions\n",
    "            return valid_actions[random.randrange(len(valid_actions))]#,exploration_counter\n",
    "        else:                                         #if z>epsilon, then go exploitation; select best action from all possible actions\n",
    "            valid_actions.pop(-1) #since -1 action is built into the below code\n",
    "            valid_actions_idx=[env.action_space.index(i) for i in valid_actions]\n",
    "            pred_prob=self.model.predict_proba(encoded_state)\n",
    "            profit_idx=list(self.model.classes_).index('Profit')\n",
    "            profit_prob=[element[profit_idx] for element in pred_prob]\n",
    "            valid_probs=[profit_prob[i] for i in valid_actions_idx]\n",
    "            if max(valid_probs, default=0)>0.5:\n",
    "                return valid_actions[np.argmax(valid_probs)]\n",
    "            else:\n",
    "                return -1\n",
    "    \n",
    "    def get_action_test(self, state, encoded_state, episode):    \n",
    "        valid_actions=env.get_valid_actions(state)\n",
    "        valid_actions.pop(-1) #since -1 action is built into the below code\n",
    "        valid_actions_idx=[env.action_space.index(i) for i in valid_actions]\n",
    "        pred_prob=self.model.predict_proba(encoded_state)\n",
    "        profit_idx=list(self.model.classes_).index('Profit')\n",
    "        profit_prob=[element[profit_idx] for element in pred_prob]\n",
    "        valid_probs=[profit_prob[i] for i in valid_actions_idx]\n",
    "        if max(valid_probs, default=0)>0.5:\n",
    "            return valid_actions[np.argmax(valid_probs)]\n",
    "        else:\n",
    "            return -1\n",
    "    \n",
    "    # save <s, a ,r> of each step\n",
    "    def append_sample(self, state, action, reward):\n",
    "        self.states.append(state)\n",
    "        self.rewards.append(reward)\n",
    "        self.actions.append(action)\n",
    "        \n",
    "        # Decay in ε after we generate each sample from the environment\n",
    "        if self.epsilon > self.epsilon_min:\n",
    "            self.epsilon *= self.epsilon_decay\n",
    "\n",
    "    # update policy network every episode\n",
    "    def train_model(self):\n",
    "        # For every (s,a,r) appended, filter dataframe in s for ticker 'a'; concat this for all appended samples to make X_train\n",
    "        # rewards is a list of labels and is used as y_train\n",
    "        x_train_list=[]\n",
    "        y_train_list=[]\n",
    "        \n",
    "        for idx in range(len(self.states)):\n",
    "            s1=self.states[idx][0].copy() \n",
    "            a1=self.actions[idx]\n",
    "            if a1!=-1: #choosing only the states where the action of buying happened\n",
    "                x_train_list.append(s1[s1.ticker==a1][training_cols2]) #select only training_cols\n",
    "                y_train_list.append(self.rewards[idx])\n",
    "\n",
    "        X_train=pd.concat(x_train_list)\n",
    "        X_train.reset_index(inplace=True, drop=True)\n",
    "        y_train=pd.Series(y_train_list)\n",
    "        \n",
    "        self.model.fit(X_train,y_train)\n",
    "        self.states, self.actions, self.rewards = [], [], []"
   ]
  },
  {
   "cell_type": "code",
   "execution_count": 5,
   "metadata": {},
   "outputs": [],
   "source": [
    "#Initialize environment\n",
    "env=market()\n",
    "# Defining number of episodes to train\n",
    "EPISODES = 60"
   ]
  },
  {
   "cell_type": "code",
   "execution_count": 8,
   "metadata": {},
   "outputs": [],
   "source": [
    "#Initialize agent\n",
    "agent = RFAgent()\n",
    "triggers=[0,0,0,0,0,0,0]\n",
    "all_step_rewards=[]\n",
    "all_triggers=[]"
   ]
  },
  {
   "cell_type": "code",
   "execution_count": 9,
   "metadata": {
    "scrolled": true
   },
   "outputs": [
    {
     "data": {
      "application/vnd.jupyter.widget-view+json": {
       "model_id": "74a1ea6f6f2f4956b665137b05a5bcc2",
       "version_major": 2,
       "version_minor": 0
      },
      "text/plain": [
       "HBox(children=(HTML(value=''), FloatProgress(value=0.0, max=60.0), HTML(value='')))"
      ]
     },
     "metadata": {},
     "output_type": "display_data"
    },
    {
     "name": "stdout",
     "output_type": "stream",
     "text": [
      "Episode:1,Epsilon:0.0, Episode Steps:1193,Episode Reward:0.51,Portfolio:1.51,Episode Dividend:1.27,Triggers:[460, 26, 182, 20, 225, 157, 1], Actions:1071\n",
      "Episode:2,Epsilon:0.0, Episode Steps:1193,Episode Reward:3.4,Portfolio:4.4,Episode Dividend:3.54,Triggers:[373, 14, 261, 21, 319, 205, 0], Actions:1193\n",
      "Episode:3,Epsilon:0.0, Episode Steps:1193,Episode Reward:2.01,Portfolio:3.01,Episode Dividend:3.38,Triggers:[474, 34, 219, 23, 266, 174, 2], Actions:1192\n",
      "Episode:4,Epsilon:0.0, Episode Steps:1193,Episode Reward:3.77,Portfolio:4.77,Episode Dividend:3.79,Triggers:[319, 8, 298, 11, 321, 236, 0], Actions:1193\n",
      "Episode:5,Epsilon:0.0, Episode Steps:1193,Episode Reward:1.28,Portfolio:2.28,Episode Dividend:3.1,Triggers:[495, 34, 198, 16, 249, 196, 3], Actions:1191\n",
      "Episode:6,Epsilon:0.0, Episode Steps:1193,Episode Reward:3.22,Portfolio:4.22,Episode Dividend:3.53,Triggers:[478, 34, 225, 20, 264, 172, 0], Actions:1193\n",
      "Episode:7,Epsilon:0.0, Episode Steps:1193,Episode Reward:2.74,Portfolio:3.74,Episode Dividend:4.44,Triggers:[464, 27, 222, 22, 266, 188, 3], Actions:1192\n",
      "Episode:8,Epsilon:0.0, Episode Steps:1193,Episode Reward:3.09,Portfolio:4.09,Episode Dividend:3.33,Triggers:[510, 39, 224, 18, 246, 156, 0], Actions:1193\n",
      "Episode:9,Epsilon:0.0, Episode Steps:1193,Episode Reward:3.42,Portfolio:4.42,Episode Dividend:5.06,Triggers:[430, 24, 261, 28, 281, 165, 3], Actions:1192\n",
      "Episode:10,Epsilon:0.0, Episode Steps:1193,Episode Reward:2.83,Portfolio:3.83,Episode Dividend:3.22,Triggers:[521, 42, 225, 21, 229, 154, 0], Actions:1192\n",
      "Episode:11,Epsilon:0.0, Episode Steps:1193,Episode Reward:2.96,Portfolio:3.96,Episode Dividend:4.75,Triggers:[432, 22, 239, 24, 277, 196, 3], Actions:1193\n",
      "Episode:12,Epsilon:0.0, Episode Steps:1193,Episode Reward:2.56,Portfolio:3.56,Episode Dividend:3.12,Triggers:[511, 51, 210, 27, 235, 156, 0], Actions:1190\n",
      "Episode:13,Epsilon:0.0, Episode Steps:1193,Episode Reward:3.77,Portfolio:4.77,Episode Dividend:5.36,Triggers:[312, 17, 302, 21, 337, 201, 3], Actions:1193\n",
      "Episode:14,Epsilon:0.0, Episode Steps:1193,Episode Reward:2.71,Portfolio:3.71,Episode Dividend:3.21,Triggers:[505, 51, 213, 19, 247, 156, 0], Actions:1191\n",
      "Episode:15,Epsilon:0.0, Episode Steps:1193,Episode Reward:2.25,Portfolio:3.25,Episode Dividend:4.02,Triggers:[393, 16, 243, 26, 306, 206, 3], Actions:1193\n",
      "Episode:16,Epsilon:0.0, Episode Steps:1193,Episode Reward:2.54,Portfolio:3.54,Episode Dividend:2.85,Triggers:[519, 47, 232, 18, 227, 150, 0], Actions:1193\n",
      "Episode:17,Epsilon:0.0, Episode Steps:1193,Episode Reward:3.03,Portfolio:4.03,Episode Dividend:4.31,Triggers:[319, 21, 296, 28, 334, 192, 2], Actions:1192\n",
      "Episode:18,Epsilon:0.0, Episode Steps:1193,Episode Reward:2.88,Portfolio:3.88,Episode Dividend:3.23,Triggers:[513, 49, 218, 21, 249, 140, 0], Actions:1190\n",
      "Episode:19,Epsilon:0.0, Episode Steps:1193,Episode Reward:2.94,Portfolio:3.94,Episode Dividend:3.54,Triggers:[353, 14, 285, 21, 321, 197, 1], Actions:1192\n",
      "Episode:20,Epsilon:0.0, Episode Steps:1193,Episode Reward:2.97,Portfolio:3.97,Episode Dividend:3.47,Triggers:[497, 47, 219, 17, 239, 173, 0], Actions:1192\n",
      "Episode:21,Epsilon:0.0, Episode Steps:1193,Episode Reward:3.11,Portfolio:4.11,Episode Dividend:4.74,Triggers:[368, 16, 256, 18, 325, 207, 3], Actions:1193\n",
      "Episode:22,Epsilon:0.0, Episode Steps:1193,Episode Reward:2.98,Portfolio:3.98,Episode Dividend:3.31,Triggers:[501, 41, 226, 19, 248, 157, 0], Actions:1192\n",
      "Episode:23,Epsilon:0.0, Episode Steps:1193,Episode Reward:2.49,Portfolio:3.49,Episode Dividend:4.19,Triggers:[379, 15, 263, 22, 319, 192, 3], Actions:1193\n",
      "Episode:24,Epsilon:0.0, Episode Steps:1193,Episode Reward:3.28,Portfolio:4.28,Episode Dividend:3.6,Triggers:[518, 43, 214, 18, 238, 160, 0], Actions:1191\n",
      "Episode:25,Epsilon:0.0, Episode Steps:1193,Episode Reward:1.39,Portfolio:2.39,Episode Dividend:3.12,Triggers:[462, 18, 215, 25, 269, 201, 3], Actions:1193\n",
      "Episode:26,Epsilon:0.0, Episode Steps:1193,Episode Reward:3.17,Portfolio:4.17,Episode Dividend:3.61,Triggers:[476, 43, 222, 18, 263, 171, 0], Actions:1193\n",
      "Episode:27,Epsilon:0.0, Episode Steps:1193,Episode Reward:3.07,Portfolio:4.07,Episode Dividend:4.65,Triggers:[373, 19, 271, 19, 319, 188, 3], Actions:1192\n",
      "Episode:28,Epsilon:0.0, Episode Steps:1193,Episode Reward:2.96,Portfolio:3.96,Episode Dividend:3.29,Triggers:[520, 39, 217, 21, 237, 159, 0], Actions:1193\n",
      "Episode:29,Epsilon:0.0, Episode Steps:1193,Episode Reward:2.23,Portfolio:3.23,Episode Dividend:3.83,Triggers:[478, 23, 236, 21, 256, 175, 3], Actions:1192\n",
      "Episode:30,Epsilon:0.0, Episode Steps:1193,Episode Reward:3.25,Portfolio:4.25,Episode Dividend:3.43,Triggers:[509, 38, 234, 14, 247, 151, 0], Actions:1193\n",
      "Episode:31,Epsilon:0.0, Episode Steps:1193,Episode Reward:2.96,Portfolio:3.96,Episode Dividend:4.35,Triggers:[499, 30, 217, 25, 231, 188, 2], Actions:1192\n",
      "Episode:32,Epsilon:0.0, Episode Steps:1193,Episode Reward:2.8,Portfolio:3.8,Episode Dividend:3.13,Triggers:[523, 38, 218, 17, 236, 161, 0], Actions:1193\n",
      "Episode:33,Epsilon:0.0, Episode Steps:1193,Episode Reward:3.03,Portfolio:4.03,Episode Dividend:4.75,Triggers:[452, 28, 241, 24, 267, 177, 3], Actions:1192\n",
      "Episode:34,Epsilon:0.0, Episode Steps:1193,Episode Reward:2.87,Portfolio:3.87,Episode Dividend:3.17,Triggers:[527, 44, 226, 18, 238, 140, 0], Actions:1193\n",
      "Episode:35,Epsilon:0.0, Episode Steps:1193,Episode Reward:3.06,Portfolio:4.06,Episode Dividend:4.69,Triggers:[357, 15, 285, 23, 324, 186, 3], Actions:1193\n",
      "Episode:36,Epsilon:0.0, Episode Steps:1193,Episode Reward:3.05,Portfolio:4.05,Episode Dividend:3.47,Triggers:[524, 47, 220, 23, 238, 140, 0], Actions:1192\n",
      "Episode:37,Epsilon:0.0, Episode Steps:1193,Episode Reward:3.91,Portfolio:4.91,Episode Dividend:5.06,Triggers:[308, 16, 306, 18, 331, 212, 2], Actions:1193\n",
      "Episode:38,Epsilon:0.0, Episode Steps:1193,Episode Reward:3.43,Portfolio:4.43,Episode Dividend:3.77,Triggers:[529, 47, 226, 22, 239, 129, 0], Actions:1192\n",
      "Episode:39,Epsilon:0.0, Episode Steps:1193,Episode Reward:2.66,Portfolio:3.66,Episode Dividend:3.64,Triggers:[357, 11, 308, 17, 311, 187, 2], Actions:1193\n",
      "Episode:40,Epsilon:0.0, Episode Steps:1193,Episode Reward:3.73,Portfolio:4.73,Episode Dividend:4.1,Triggers:[532, 50, 227, 24, 230, 129, 0], Actions:1192\n",
      "Episode:41,Epsilon:0.0, Episode Steps:1193,Episode Reward:3.62,Portfolio:4.62,Episode Dividend:4.71,Triggers:[315, 9, 296, 19, 355, 197, 2], Actions:1193\n",
      "Episode:42,Epsilon:0.0, Episode Steps:1193,Episode Reward:3.51,Portfolio:4.51,Episode Dividend:3.9,Triggers:[523, 49, 215, 21, 249, 134, 0], Actions:1191\n",
      "Episode:43,Epsilon:0.0, Episode Steps:1193,Episode Reward:2.56,Portfolio:3.56,Episode Dividend:4.1,Triggers:[403, 11, 250, 18, 302, 206, 3], Actions:1193\n",
      "Episode:44,Epsilon:0.0, Episode Steps:1193,Episode Reward:3.47,Portfolio:4.47,Episode Dividend:3.86,Triggers:[516, 46, 210, 20, 248, 152, 0], Actions:1192\n",
      "Episode:45,Epsilon:0.0, Episode Steps:1193,Episode Reward:2.12,Portfolio:3.12,Episode Dividend:3.77,Triggers:[473, 18, 216, 19, 259, 205, 3], Actions:1193\n",
      "Episode:46,Epsilon:0.0, Episode Steps:1193,Episode Reward:3.22,Portfolio:4.22,Episode Dividend:3.71,Triggers:[495, 45, 222, 21, 237, 171, 0], Actions:1191\n",
      "Episode:47,Epsilon:0.0, Episode Steps:1193,Episode Reward:2.58,Portfolio:3.58,Episode Dividend:4.11,Triggers:[455, 15, 230, 14, 276, 200, 3], Actions:1193\n",
      "Episode:48,Epsilon:0.0, Episode Steps:1193,Episode Reward:3.04,Portfolio:4.04,Episode Dividend:3.52,Triggers:[516, 47, 216, 24, 223, 165, 0], Actions:1191\n",
      "Episode:49,Epsilon:0.0, Episode Steps:1193,Episode Reward:2.64,Portfolio:3.64,Episode Dividend:4.34,Triggers:[475, 21, 225, 22, 257, 190, 3], Actions:1193\n",
      "Episode:50,Epsilon:0.0, Episode Steps:1193,Episode Reward:3.0,Portfolio:4.0,Episode Dividend:3.5,Triggers:[505, 47, 204, 18, 237, 178, 0], Actions:1189\n",
      "Episode:51,Epsilon:0.0, Episode Steps:1193,Episode Reward:2.47,Portfolio:3.47,Episode Dividend:4.06,Triggers:[392, 12, 252, 18, 311, 205, 3], Actions:1193\n",
      "Episode:52,Epsilon:0.0, Episode Steps:1193,Episode Reward:3.15,Portfolio:4.15,Episode Dividend:3.55,Triggers:[501, 42, 223, 22, 248, 156, 0], Actions:1192\n",
      "Episode:53,Epsilon:0.0, Episode Steps:1193,Episode Reward:2.33,Portfolio:3.33,Episode Dividend:3.95,Triggers:[400, 19, 256, 24, 302, 189, 3], Actions:1193\n",
      "Episode:54,Epsilon:0.0, Episode Steps:1193,Episode Reward:3.61,Portfolio:4.61,Episode Dividend:3.9,Triggers:[498, 36, 233, 21, 241, 162, 0], Actions:1191\n"
     ]
    },
    {
     "name": "stdout",
     "output_type": "stream",
     "text": [
      "Episode:55,Epsilon:0.0, Episode Steps:1193,Episode Reward:1.55,Portfolio:2.55,Episode Dividend:3.25,Triggers:[509, 24, 206, 22, 248, 180, 3], Actions:1192\n",
      "Episode:56,Epsilon:0.0, Episode Steps:1193,Episode Reward:3.14,Portfolio:4.14,Episode Dividend:3.56,Triggers:[513, 45, 230, 21, 222, 161, 0], Actions:1192\n",
      "Episode:57,Epsilon:0.0, Episode Steps:1193,Episode Reward:2.23,Portfolio:3.23,Episode Dividend:3.88,Triggers:[476, 17, 218, 24, 272, 182, 3], Actions:1192\n",
      "Episode:58,Epsilon:0.0, Episode Steps:1193,Episode Reward:2.92,Portfolio:3.92,Episode Dividend:3.27,Triggers:[530, 45, 212, 17, 232, 155, 0], Actions:1191\n",
      "Episode:59,Epsilon:0.0, Episode Steps:1193,Episode Reward:1.9,Portfolio:2.9,Episode Dividend:3.75,Triggers:[482, 26, 207, 27, 252, 196, 3], Actions:1193\n",
      "Episode:60,Epsilon:0.0, Episode Steps:1193,Episode Reward:2.79,Portfolio:3.79,Episode Dividend:3.23,Triggers:[507, 46, 210, 17, 246, 166, 0], Actions:1192\n",
      "\n"
     ]
    }
   ],
   "source": [
    "start_time = time.time()\n",
    "\n",
    "for episode in tqdm_notebook(range(EPISODES)):\n",
    "    # Write code here\n",
    "    terminal_state=False\n",
    "    #month_dividend=0\n",
    "    episode_steps=0\n",
    "    episode_reward=0\n",
    "    episode_dividend=0\n",
    "\n",
    "    state = env.reset()\n",
    "    investment=state[1]\n",
    "    portfolio=investment\n",
    "\n",
    "    while not terminal_state:\n",
    "        state_encod=env.state_encoder(state)\n",
    "        \n",
    "        # get action for the current state and go one step in environment\n",
    "        action = agent.get_action(state,state_encod, episode) \n",
    "        \n",
    "        next_state, label, reward, dividend, trig_count = env.action_success_fn(action,state)\n",
    "        episode_reward+=reward\n",
    "        episode_steps+=1\n",
    "        episode_dividend+=dividend\n",
    "        \n",
    "        triggers[0]+=trig_count[0]\n",
    "        triggers[1]+=trig_count[1]\n",
    "        triggers[2]+=trig_count[2]\n",
    "        triggers[3]+=trig_count[3]\n",
    "        triggers[4]+=trig_count[4]\n",
    "        triggers[5]+=trig_count[5]\n",
    "        triggers[6]+=trig_count[6]\n",
    "\n",
    "        # save the sample <s, a, r> \n",
    "        agent.append_sample(state, action, label)\n",
    "\n",
    "        state = next_state\n",
    "        \n",
    "        if (env.get_date(state)>=pd.to_datetime(datetime.date(2019,1,1))) or (investment+episode_reward<=0.5*investment): #or (episode_steps>=23) : \n",
    "            #episodes are limited upto 1 Jan 2019 only or 50% drop in portfolio value\n",
    "            terminal_state=True\n",
    "            \n",
    "    if terminal_state:\n",
    "        agent.train_model()    \n",
    "        portfolio+=episode_reward\n",
    "        all_episode_rewards.append(episode_reward) #saving the reward at end of each episode\n",
    "        all_episode_portfolio.append(portfolio)\n",
    "        all_triggers.append(triggers)\n",
    "        all_episode_dividends.append(episode_dividend)\n",
    "    \n",
    "    if (episode+1)%1==0:\n",
    "        episode_count=episode+1\n",
    "        elapsed_time = time.time() - start_time\n",
    "        #print(random_action_count/total_steps_count)\n",
    "        print('Episode:{},Epsilon:{}, Episode Steps:{},Episode Reward:{},Portfolio:{},Episode Dividend:{},Triggers:{}, Actions:{}'.\n",
    "              format(episode_count,round(agent.epsilon,2),episode_steps,round(episode_reward,2),round(portfolio,2),round(episode_dividend,2),triggers,sum(triggers)))\n",
    "    triggers=[0,0,0,0,0,0,0]"
   ]
  },
  {
   "cell_type": "code",
   "execution_count": 30,
   "metadata": {},
   "outputs": [],
   "source": [
    "#Saving pickle files; the above took 8.5 hrs to run the above 60 episodes\n",
    "with open('RFCAgent_abs_rew.pickle', 'wb') as handle:\n",
    "    pickle.dump(agent, handle, protocol=pickle.HIGHEST_PROTOCOL)"
   ]
  },
  {
   "cell_type": "code",
   "execution_count": 31,
   "metadata": {},
   "outputs": [],
   "source": [
    "#Saving training data\n",
    "\n",
    "with open('Final_RFCAgent_model_abs_rew.pickle', 'wb') as handle:\n",
    "    pickle.dump(agent.model, handle, protocol=pickle.HIGHEST_PROTOCOL)\n",
    "\n",
    "with open('Final_RFCAgent_abs_rew_all_episode_rewards.pickle', 'wb') as handle:\n",
    "    pickle.dump(all_episode_rewards, handle, protocol=pickle.HIGHEST_PROTOCOL)\n",
    "    \n",
    "with open('Final_RFCAgent_abs_rew_all_episode_portfolio.pickle', 'wb') as handle:\n",
    "    pickle.dump(all_episode_portfolio, handle, protocol=pickle.HIGHEST_PROTOCOL)\n",
    "\n",
    "with open('Final_RFCAgent_abs_rew_all_triggers.pickle', 'wb') as handle:\n",
    "    pickle.dump(all_triggers, handle, protocol=pickle.HIGHEST_PROTOCOL)\n",
    "    \n",
    "with open('Final_RFCAgent_abs_rew_all_dividends.pickle', 'wb') as handle:\n",
    "    pickle.dump(all_episode_dividends, handle, protocol=pickle.HIGHEST_PROTOCOL)"
   ]
  },
  {
   "cell_type": "code",
   "execution_count": 46,
   "metadata": {},
   "outputs": [
    {
     "data": {
      "image/png": "[encoded data removed]",
      "text/plain": [
       "<Figure size 432x288 with 1 Axes>"
      ]
     },
     "metadata": {
      "needs_background": "light"
     },
     "output_type": "display_data"
    }
   ],
   "source": [
    "plt.plot(all_episode_rewards[:58])\n",
    "plt.xlabel('Episodes')\n",
    "plt.ylabel('Episode Reward')\n",
    "plt.axhline(y=2.9, color='r', linestyle=':') #Drawing horizontal line at y=12\n",
    "plt.title('Episode Reward Convergence')\n",
    "plt.show()"
   ]
  },
  {
   "cell_type": "code",
   "execution_count": 47,
   "metadata": {},
   "outputs": [
    {
     "data": {
      "image/png": "[encoded data removed]",
      "text/plain": [
       "<Figure size 1080x360 with 2 Axes>"
      ]
     },
     "metadata": {
      "needs_background": "light"
     },
     "output_type": "display_data"
    }
   ],
   "source": [
    "#These graphs are for normalized policy; nan's replaced by zero and sum of policy scaled to 1 by loading on valid actions' indices\n",
    "#Gamma value of 0.9 instead of 0.1 earlier with 927 episodes: 27 hrs\n",
    "plt.figure(0, figsize=(15,5))\n",
    "plt.subplot(121)\n",
    "plt.plot(all_episode_rewards[:58])\n",
    "plt.xlabel('Episodes')\n",
    "plt.ylabel('Episode Reward')\n",
    "plt.axhline(y=2.9, color='r', linestyle=':') #Drawing horizontal line at y=12\n",
    "plt.title('Episode Reward Convergence')\n",
    "          \n",
    "plt.subplot(122)\n",
    "plt.plot(all_episode_portfolio[:58])\n",
    "plt.xlabel('Episodes')\n",
    "plt.ylabel('Episode Portfolio')\n",
    "plt.axhline(y=3.9, color='r', linestyle=':') #Drawing horizontal line at y=12\n",
    "plt.title('Episode Portfolio Convergence')        \n",
    "          \n",
    "plt.show()"
   ]
  },
  {
   "cell_type": "markdown",
   "metadata": {},
   "source": [
    "**RUNNING ON TEST SET**"
   ]
  },
  {
   "cell_type": "code",
   "execution_count": 7,
   "metadata": {},
   "outputs": [],
   "source": [
    "#Loading the RF model\n",
    "file4 = open(\"Final_RFCAgent_model_abs_rew.pickle\", \"rb\")\n",
    "RFmodel = pickle.load(file4)\n",
    "file4.close()"
   ]
  },
  {
   "cell_type": "code",
   "execution_count": 13,
   "metadata": {},
   "outputs": [],
   "source": [
    "#Loading the ms_dict\n",
    "file3 = open(\"market_state_scaled_dummy_dict.pickle\", \"rb\")\n",
    "ms_dict = pickle.load(file3)\n",
    "file3.close()"
   ]
  },
  {
   "cell_type": "code",
   "execution_count": 14,
   "metadata": {},
   "outputs": [],
   "source": [
    "test_start=[ms_dict.get(pd.to_datetime(datetime.date(2019,1,2))),1.0, {'sell_date':'cash'}]"
   ]
  },
  {
   "cell_type": "code",
   "execution_count": 15,
   "metadata": {},
   "outputs": [],
   "source": [
    "#Modfiying agent code to load the saved model\n",
    "class RFAgent:\n",
    "    def __init__(self):\n",
    "\n",
    "        # create model\n",
    "        self.model = self.build_model()\n",
    "\n",
    "        # lists for the states, actions and rewards\n",
    "        self.states, self.actions, self.rewards = [], [], []\n",
    "        \n",
    "        #Set epsilon for decay\n",
    "        self.epsilon_max = 1.0\n",
    "        self.epsilon_decay = np.exp(-0.028) \n",
    "        self.epsilon_min = 0.00000001      \n",
    "        self.epsilon=self.epsilon_max\n",
    "    \n",
    "    def build_model(self):\n",
    "        model = RFmodel \n",
    "        return model\n",
    "\n",
    "    def get_action(self, state, encoded_state, episode):\n",
    "        valid_actions=env.get_valid_actions(state)\n",
    "        valid_actions_idx=[env.action_space.index(i) for i in valid_actions]\n",
    "        z=np.random.rand()\n",
    "        if (z <= self.epsilon) or (episode<1):                         #if z<=epsilon, then go exploration; select random action from all possible actions\n",
    "            return valid_actions[random.randrange(len(valid_actions))]#,exploration_counter\n",
    "        else:                                         #if z>epsilon, then go exploitation; select best action from all possible actions\n",
    "            valid_actions.pop(-1) #since -1 action is built into the below code\n",
    "            valid_actions_idx=[env.action_space.index(i) for i in valid_actions]\n",
    "            pred_prob=self.model.predict_proba(encoded_state)\n",
    "            profit_idx=list(self.model.classes_).index('Profit')\n",
    "            profit_prob=[element[profit_idx] for element in pred_prob]\n",
    "            valid_probs=[profit_prob[i] for i in valid_actions_idx]\n",
    "            if max(valid_probs, default=0)>0.5:\n",
    "                return valid_actions[np.argmax(valid_probs)]\n",
    "            else:\n",
    "                return -1\n",
    "    \n",
    "    def get_action_test(self, state, encoded_state, episode):    \n",
    "        valid_actions=env.get_valid_actions(state)\n",
    "        valid_actions.pop(-1) #since -1 action is built into the below code\n",
    "        valid_actions_idx=[env.action_space.index(i) for i in valid_actions]\n",
    "        pred_prob=self.model.predict_proba(encoded_state)\n",
    "        profit_idx=list(self.model.classes_).index('Profit')\n",
    "        profit_prob=[element[profit_idx] for element in pred_prob]\n",
    "        valid_probs=[profit_prob[i] for i in valid_actions_idx]\n",
    "        if max(valid_probs, default=0)>0.5:\n",
    "            return valid_actions[np.argmax(valid_probs)]\n",
    "        else:\n",
    "            return -1\n",
    "    \n",
    "    # save <s, a ,r> of each step\n",
    "    def append_sample(self, state, action, reward):\n",
    "        self.states.append(state)\n",
    "        self.rewards.append(reward)\n",
    "        self.actions.append(action)\n",
    "        \n",
    "        # Decay in ε after we generate each sample from the environment\n",
    "        if self.epsilon > self.epsilon_min:\n",
    "            self.epsilon *= self.epsilon_decay\n",
    "\n",
    "    def train_model(self):\n",
    "        # For every (s,a,r) appended, filter dataframe in s for ticker 'a'; concat this for all appended samples to make X_train\n",
    "        # rewards is a list of labels and is used as y_train\n",
    "        x_train_list=[]\n",
    "        y_train_list=[]\n",
    "        \n",
    "        for idx in range(len(self.states)):\n",
    "            s1=self.states[idx][0].copy() \n",
    "            a1=self.actions[idx]\n",
    "            if a1!=-1: #choosing only the states where the action of buying happened\n",
    "                x_train_list.append(s1[s1.ticker==a1][training_cols2]) #select only training_cols\n",
    "                y_train_list.append(self.rewards[idx])\n",
    "\n",
    "        X_train=pd.concat(x_train_list)\n",
    "        X_train.reset_index(inplace=True, drop=True)\n",
    "        y_train=pd.Series(y_train_list)\n",
    "        \n",
    "        self.model.fit(X_train,y_train)\n",
    "        self.states, self.actions, self.rewards = [], [], []"
   ]
  },
  {
   "cell_type": "code",
   "execution_count": 16,
   "metadata": {},
   "outputs": [],
   "source": [
    "agent = RFAgent()"
   ]
  },
  {
   "cell_type": "code",
   "execution_count": 17,
   "metadata": {},
   "outputs": [],
   "source": [
    "#Running model on test data\n",
    "test_trig2=[0,0,0,0,0,0,0]\n",
    "episode_steps2=0\n",
    "episode_reward2=0\n",
    "episode_dividend2=0\n",
    "test_rewards2=[]\n",
    "test_portfolios2=[]\n",
    "#set to state corresponding to first trading day after 1/1/2019 at start of episode, state is [dataframe,array]\n",
    "test_state = test_start\n",
    "test_investment=test_state[1]\n",
    "test_portfolio2=test_investment\n",
    "step_actions2=[]\n",
    "\n",
    "while (env.get_date(test_state)<=pd.to_datetime(datetime.date(2021,12,31))):#only or upto 31 Dec 2021\n",
    "        \n",
    "    state_encod=env.state_encoder(test_state)\n",
    "        \n",
    "    # get action for the current state and go one step in environment\n",
    "    action = agent.get_action_test(test_state,state_encod,2) \n",
    "    step_actions2.append(action)\n",
    "    \n",
    "    next_state, label, reward, dividend, trig_count = env.action_success_fn(action,test_state)\n",
    "    episode_reward2+=reward\n",
    "    episode_steps2+=1\n",
    "    episode_dividend2+=dividend\n",
    "        \n",
    "    test_trig2[0]+=trig_count[0]\n",
    "    test_trig2[1]+=trig_count[1]\n",
    "    test_trig2[2]+=trig_count[2]\n",
    "    test_trig2[3]+=trig_count[3]\n",
    "    test_trig2[4]+=trig_count[4]\n",
    "    test_trig2[5]+=trig_count[5]\n",
    "    test_trig2[6]+=trig_count[6]\n",
    "\n",
    "    test_state = next_state\n",
    "    #print(test_state[1])\n",
    "    test_portfolio2+=reward\n",
    "    test_rewards2.append(reward) #saving the reward at end of each episode\n",
    "    test_portfolios2.append(test_portfolio2)"
   ]
  },
  {
   "cell_type": "code",
   "execution_count": 15,
   "metadata": {},
   "outputs": [
    {
     "data": {
      "text/plain": [
       "'ARR of model with RFC agent after 60 episodes is 31.21%'"
      ]
     },
     "execution_count": 15,
     "metadata": {},
     "output_type": "execute_result"
    }
   ],
   "source": [
    "'ARR of model with RFC agent after 60 episodes is {}%'.format(round(((((test_portfolio2)/1)**(1/3)-1)*100),2))"
   ]
  },
  {
   "cell_type": "code",
   "execution_count": 48,
   "metadata": {},
   "outputs": [
    {
     "data": {
      "text/plain": [
       "36"
      ]
     },
     "execution_count": 48,
     "metadata": {},
     "output_type": "execute_result"
    }
   ],
   "source": [
    "t=36/3\n",
    "model_returns=[t*((test_portfolios2[i])**(21/i)-1) for i in range(21,757,21)]\n",
    "len(model_returns)"
   ]
  },
  {
   "cell_type": "code",
   "execution_count": 49,
   "metadata": {},
   "outputs": [
    {
     "data": {
      "text/plain": [
       "0.31213852644516527"
      ]
     },
     "execution_count": 49,
     "metadata": {},
     "output_type": "execute_result"
    }
   ],
   "source": [
    "(test_portfolios2[-1]**(1/3)-1)"
   ]
  },
  {
   "cell_type": "code",
   "execution_count": 51,
   "metadata": {},
   "outputs": [
    {
     "data": {
      "text/plain": [
       "4.221374260889137"
      ]
     },
     "execution_count": 51,
     "metadata": {},
     "output_type": "execute_result"
    }
   ],
   "source": [
    "#Sharpe Ratio\n",
    "((test_portfolios2[-1]**(1/3)-1)-0.0117)/np.std(model_returns)"
   ]
  },
  {
   "cell_type": "code",
   "execution_count": 52,
   "metadata": {},
   "outputs": [
    {
     "name": "stdout",
     "output_type": "stream",
     "text": [
      "There are 757 trading days in test set. The agent chooses to trade on 757 days only.\n"
     ]
    }
   ],
   "source": [
    "print('There are {} trading days in test set. The agent chooses to trade on {} days only.'.format(episode_steps2,np.sum(test_trig2)))"
   ]
  },
  {
   "cell_type": "code",
   "execution_count": 53,
   "metadata": {},
   "outputs": [
    {
     "name": "stdout",
     "output_type": "stream",
     "text": [
      "The total dividend captured by the agent is 1.34 while the total profit in final portfolio at end of 3 years is 1.26.\n",
      "This indicates that majority of the profits are captured from dividends while trading related losses bring it down. Despite this, the agent outperforms the S&P500 by more than 800 bps.\n"
     ]
    }
   ],
   "source": [
    "print('The total dividend captured by the agent is {} while the total profit in final portfolio at end of 3 years is {}.\\nThis indicates that majority of the profits are captured from dividends while trading related losses bring it down. Despite this, the agent outperforms the S&P500 by more than 800 bps.'\n",
    "      .format(round(episode_dividend2,2),round(test_portfolio2-1,2)))"
   ]
  },
  {
   "cell_type": "code",
   "execution_count": 17,
   "metadata": {},
   "outputs": [
    {
     "data": {
      "text/plain": [
       "272"
      ]
     },
     "execution_count": 17,
     "metadata": {},
     "output_type": "execute_result"
    }
   ],
   "source": [
    "test_rewards2.index(max(test_rewards2))"
   ]
  },
  {
   "cell_type": "code",
   "execution_count": 18,
   "metadata": {},
   "outputs": [
    {
     "data": {
      "text/plain": [
       "0.26217111330223203"
      ]
     },
     "execution_count": 18,
     "metadata": {},
     "output_type": "execute_result"
    }
   ],
   "source": [
    "test_rewards2[272]"
   ]
  },
  {
   "cell_type": "code",
   "execution_count": 19,
   "metadata": {},
   "outputs": [
    {
     "data": {
      "text/plain": [
       "'ARR of model without the outlier dividend payment in test set is 25.93% which also beats the S&P500 ARR for same time period'"
      ]
     },
     "execution_count": 19,
     "metadata": {},
     "output_type": "execute_result"
    }
   ],
   "source": [
    "'ARR of model without the outlier dividend payment in test set is {}% which also beats the S&P500 ARR for same time period'.format(round(((((test_portfolio2-test_rewards2[272])/1)**(1/3)-1)*100),2))"
   ]
  },
  {
   "cell_type": "code",
   "execution_count": 20,
   "metadata": {},
   "outputs": [
    {
     "data": {
      "image/png": "[encoded data removed]",
      "text/plain": [
       "<Figure size 360x360 with 1 Axes>"
      ]
     },
     "metadata": {
      "needs_background": "light"
     },
     "output_type": "display_data"
    }
   ],
   "source": [
    "#Tracking inidividual episode total reward to check convergence\n",
    "plt.figure(figsize=(5,5))\n",
    "plt.plot(test_portfolios2)\n",
    "#plt.axhline(y=1800, color='r', linestyle=':') #Drawing horizontal line at y=1800\n",
    "plt.xlabel('Trading Days')\n",
    "plt.ylabel('Test Set Portfolio Value')\n",
    "plt.title('Test Set Model Performance with RFC and 60 Episodes')\n",
    "plt.show()"
   ]
  },
  {
   "cell_type": "code",
   "execution_count": 21,
   "metadata": {},
   "outputs": [
    {
     "data": {
      "image/png": "[encoded data removed]",
      "text/plain": [
       "<Figure size 1080x360 with 1 Axes>"
      ]
     },
     "metadata": {
      "needs_background": "light"
     },
     "output_type": "display_data"
    }
   ],
   "source": [
    "#Tracking inidividual episode total reward to check convergence\n",
    "plt.figure(figsize=(15,5))\n",
    "plt.plot(test_rewards2)\n",
    "#plt.axhline(y=1800, color='r', linestyle=':') #Drawing horizontal line at y=1800\n",
    "plt.xlabel('Trading Days')\n",
    "plt.ylabel('Test Set Step Rewards Value')\n",
    "plt.title('Test Set Model Performance with RFC and 60 Episodes')\n",
    "plt.show()"
   ]
  },
  {
   "cell_type": "code",
   "execution_count": 63,
   "metadata": {},
   "outputs": [
    {
     "data": {
      "text/plain": [
       "[311, 20, 164, 26, 129, 107, 0]"
      ]
     },
     "execution_count": 63,
     "metadata": {},
     "output_type": "execute_result"
    }
   ],
   "source": [
    "test_trig2"
   ]
  },
  {
   "cell_type": "code",
   "execution_count": 103,
   "metadata": {},
   "outputs": [
    {
     "data": {
      "text/plain": [
       "count    757.000000\n",
       "mean       0.003924\n",
       "std        0.014289\n",
       "min       -0.040000\n",
       "25%        0.003615\n",
       "50%        0.004000\n",
       "75%        0.008631\n",
       "max        0.087952\n",
       "dtype: float64"
      ]
     },
     "execution_count": 103,
     "metadata": {},
     "output_type": "execute_result"
    }
   ],
   "source": [
    "pd.Series(test_rewards2).describe()"
   ]
  },
  {
   "cell_type": "code",
   "execution_count": 55,
   "metadata": {},
   "outputs": [],
   "source": [
    "#saving portfolio values on test set as excel file\n",
    "pd.DataFrame(test_portfolios2).to_excel(\"rfc_test.xlsx\") "
   ]
  },
  {
   "cell_type": "code",
   "execution_count": 60,
   "metadata": {},
   "outputs": [],
   "source": [
    "#Building feature importance matrix\n",
    "fim=pd.DataFrame({'coeff':list(agent.model.feature_importances_), 'feature_name':list(agent.model.feature_names_in_)})"
   ]
  },
  {
   "cell_type": "code",
   "execution_count": 61,
   "metadata": {},
   "outputs": [],
   "source": [
    "fim['abs_coeff']=abs(fim.coeff)"
   ]
  },
  {
   "cell_type": "code",
   "execution_count": 62,
   "metadata": {},
   "outputs": [
    {
     "data": {
      "text/html": [
       "<div>\n",
       "<style scoped>\n",
       "    .dataframe tbody tr th:only-of-type {\n",
       "        vertical-align: middle;\n",
       "    }\n",
       "\n",
       "    .dataframe tbody tr th {\n",
       "        vertical-align: top;\n",
       "    }\n",
       "\n",
       "    .dataframe thead th {\n",
       "        text-align: right;\n",
       "    }\n",
       "</style>\n",
       "<table border=\"1\" class=\"dataframe\">\n",
       "  <thead>\n",
       "    <tr style=\"text-align: right;\">\n",
       "      <th></th>\n",
       "      <th>coeff</th>\n",
       "      <th>feature_name</th>\n",
       "      <th>abs_coeff</th>\n",
       "    </tr>\n",
       "  </thead>\n",
       "  <tbody>\n",
       "    <tr>\n",
       "      <th>7</th>\n",
       "      <td>0.081474</td>\n",
       "      <td>Dividend/p_Pc</td>\n",
       "      <td>0.081474</td>\n",
       "    </tr>\n",
       "    <tr>\n",
       "      <th>0</th>\n",
       "      <td>0.033581</td>\n",
       "      <td>Due_Dividend</td>\n",
       "      <td>0.033581</td>\n",
       "    </tr>\n",
       "    <tr>\n",
       "      <th>37</th>\n",
       "      <td>0.031793</td>\n",
       "      <td>RSI</td>\n",
       "      <td>0.031793</td>\n",
       "    </tr>\n",
       "    <tr>\n",
       "      <th>55</th>\n",
       "      <td>0.026823</td>\n",
       "      <td>Rel_ExDD_-1</td>\n",
       "      <td>0.026823</td>\n",
       "    </tr>\n",
       "    <tr>\n",
       "      <th>13</th>\n",
       "      <td>0.025377</td>\n",
       "      <td>p_High/p_Close</td>\n",
       "      <td>0.025377</td>\n",
       "    </tr>\n",
       "    <tr>\n",
       "      <th>36</th>\n",
       "      <td>0.023478</td>\n",
       "      <td>StochSlow_D</td>\n",
       "      <td>0.023478</td>\n",
       "    </tr>\n",
       "    <tr>\n",
       "      <th>35</th>\n",
       "      <td>0.023380</td>\n",
       "      <td>StochSlow_K</td>\n",
       "      <td>0.023380</td>\n",
       "    </tr>\n",
       "    <tr>\n",
       "      <th>34</th>\n",
       "      <td>0.023195</td>\n",
       "      <td>StochFast_D</td>\n",
       "      <td>0.023195</td>\n",
       "    </tr>\n",
       "    <tr>\n",
       "      <th>26</th>\n",
       "      <td>0.022303</td>\n",
       "      <td>MACD_long</td>\n",
       "      <td>0.022303</td>\n",
       "    </tr>\n",
       "    <tr>\n",
       "      <th>33</th>\n",
       "      <td>0.021903</td>\n",
       "      <td>StochFast_K</td>\n",
       "      <td>0.021903</td>\n",
       "    </tr>\n",
       "    <tr>\n",
       "      <th>6</th>\n",
       "      <td>0.021861</td>\n",
       "      <td>p_Volume</td>\n",
       "      <td>0.021861</td>\n",
       "    </tr>\n",
       "    <tr>\n",
       "      <th>20</th>\n",
       "      <td>0.021672</td>\n",
       "      <td>ATTO_45</td>\n",
       "      <td>0.021672</td>\n",
       "    </tr>\n",
       "    <tr>\n",
       "      <th>27</th>\n",
       "      <td>0.021638</td>\n",
       "      <td>MACD_Signal_long</td>\n",
       "      <td>0.021638</td>\n",
       "    </tr>\n",
       "    <tr>\n",
       "      <th>16</th>\n",
       "      <td>0.021498</td>\n",
       "      <td>TTO</td>\n",
       "      <td>0.021498</td>\n",
       "    </tr>\n",
       "    <tr>\n",
       "      <th>18</th>\n",
       "      <td>0.021393</td>\n",
       "      <td>TTO_MA45</td>\n",
       "      <td>0.021393</td>\n",
       "    </tr>\n",
       "    <tr>\n",
       "      <th>12</th>\n",
       "      <td>0.021222</td>\n",
       "      <td>p_Low/p_Close</td>\n",
       "      <td>0.021222</td>\n",
       "    </tr>\n",
       "    <tr>\n",
       "      <th>28</th>\n",
       "      <td>0.021172</td>\n",
       "      <td>MACD_hist_long</td>\n",
       "      <td>0.021172</td>\n",
       "    </tr>\n",
       "    <tr>\n",
       "      <th>17</th>\n",
       "      <td>0.020717</td>\n",
       "      <td>TTO_MA5</td>\n",
       "      <td>0.020717</td>\n",
       "    </tr>\n",
       "    <tr>\n",
       "      <th>22</th>\n",
       "      <td>0.019938</td>\n",
       "      <td>Beta_64</td>\n",
       "      <td>0.019938</td>\n",
       "    </tr>\n",
       "    <tr>\n",
       "      <th>38</th>\n",
       "      <td>0.019837</td>\n",
       "      <td>Williams_R</td>\n",
       "      <td>0.019837</td>\n",
       "    </tr>\n",
       "    <tr>\n",
       "      <th>43</th>\n",
       "      <td>0.019493</td>\n",
       "      <td>10_day_SMA/p_Close</td>\n",
       "      <td>0.019493</td>\n",
       "    </tr>\n",
       "    <tr>\n",
       "      <th>45</th>\n",
       "      <td>0.018992</td>\n",
       "      <td>10_day_WMA/p_Close</td>\n",
       "      <td>0.018992</td>\n",
       "    </tr>\n",
       "    <tr>\n",
       "      <th>41</th>\n",
       "      <td>0.018820</td>\n",
       "      <td>CCI</td>\n",
       "      <td>0.018820</td>\n",
       "    </tr>\n",
       "    <tr>\n",
       "      <th>42</th>\n",
       "      <td>0.018771</td>\n",
       "      <td>Bias</td>\n",
       "      <td>0.018771</td>\n",
       "    </tr>\n",
       "    <tr>\n",
       "      <th>32</th>\n",
       "      <td>0.017822</td>\n",
       "      <td>Momentum_short</td>\n",
       "      <td>0.017822</td>\n",
       "    </tr>\n",
       "    <tr>\n",
       "      <th>11</th>\n",
       "      <td>0.017734</td>\n",
       "      <td>p_Open/p_Close</td>\n",
       "      <td>0.017734</td>\n",
       "    </tr>\n",
       "    <tr>\n",
       "      <th>30</th>\n",
       "      <td>0.017677</td>\n",
       "      <td>PPO_long</td>\n",
       "      <td>0.017677</td>\n",
       "    </tr>\n",
       "    <tr>\n",
       "      <th>31</th>\n",
       "      <td>0.017564</td>\n",
       "      <td>Momentum_long</td>\n",
       "      <td>0.017564</td>\n",
       "    </tr>\n",
       "    <tr>\n",
       "      <th>39</th>\n",
       "      <td>0.017505</td>\n",
       "      <td>ADO</td>\n",
       "      <td>0.017505</td>\n",
       "    </tr>\n",
       "    <tr>\n",
       "      <th>44</th>\n",
       "      <td>0.016843</td>\n",
       "      <td>12_day_EMA/p_Close</td>\n",
       "      <td>0.016843</td>\n",
       "    </tr>\n",
       "    <tr>\n",
       "      <th>15</th>\n",
       "      <td>0.016697</td>\n",
       "      <td>p2_Close/p_Close</td>\n",
       "      <td>0.016697</td>\n",
       "    </tr>\n",
       "    <tr>\n",
       "      <th>25</th>\n",
       "      <td>0.016660</td>\n",
       "      <td>MACD_hist_short</td>\n",
       "      <td>0.016660</td>\n",
       "    </tr>\n",
       "    <tr>\n",
       "      <th>53</th>\n",
       "      <td>0.016524</td>\n",
       "      <td>Rel_ExDD_-3</td>\n",
       "      <td>0.016524</td>\n",
       "    </tr>\n",
       "    <tr>\n",
       "      <th>40</th>\n",
       "      <td>0.016013</td>\n",
       "      <td>OBV</td>\n",
       "      <td>0.016013</td>\n",
       "    </tr>\n",
       "    <tr>\n",
       "      <th>19</th>\n",
       "      <td>0.015898</td>\n",
       "      <td>ATTO_5</td>\n",
       "      <td>0.015898</td>\n",
       "    </tr>\n",
       "    <tr>\n",
       "      <th>29</th>\n",
       "      <td>0.015820</td>\n",
       "      <td>PPO_short</td>\n",
       "      <td>0.015820</td>\n",
       "    </tr>\n",
       "    <tr>\n",
       "      <th>10</th>\n",
       "      <td>0.015055</td>\n",
       "      <td>Week</td>\n",
       "      <td>0.015055</td>\n",
       "    </tr>\n",
       "    <tr>\n",
       "      <th>14</th>\n",
       "      <td>0.014925</td>\n",
       "      <td>Open/p_Close</td>\n",
       "      <td>0.014925</td>\n",
       "    </tr>\n",
       "    <tr>\n",
       "      <th>23</th>\n",
       "      <td>0.014792</td>\n",
       "      <td>MACD_short</td>\n",
       "      <td>0.014792</td>\n",
       "    </tr>\n",
       "    <tr>\n",
       "      <th>24</th>\n",
       "      <td>0.014561</td>\n",
       "      <td>MACD_Signal_short</td>\n",
       "      <td>0.014561</td>\n",
       "    </tr>\n",
       "    <tr>\n",
       "      <th>21</th>\n",
       "      <td>0.013849</td>\n",
       "      <td>Beta_22</td>\n",
       "      <td>0.013849</td>\n",
       "    </tr>\n",
       "    <tr>\n",
       "      <th>46</th>\n",
       "      <td>0.013499</td>\n",
       "      <td>10_day_SMA</td>\n",
       "      <td>0.013499</td>\n",
       "    </tr>\n",
       "    <tr>\n",
       "      <th>3</th>\n",
       "      <td>0.013104</td>\n",
       "      <td>p_Low</td>\n",
       "      <td>0.013104</td>\n",
       "    </tr>\n",
       "    <tr>\n",
       "      <th>5</th>\n",
       "      <td>0.012366</td>\n",
       "      <td>p2_Close</td>\n",
       "      <td>0.012366</td>\n",
       "    </tr>\n",
       "    <tr>\n",
       "      <th>2</th>\n",
       "      <td>0.012221</td>\n",
       "      <td>p_High</td>\n",
       "      <td>0.012221</td>\n",
       "    </tr>\n",
       "    <tr>\n",
       "      <th>1</th>\n",
       "      <td>0.011795</td>\n",
       "      <td>p_Open</td>\n",
       "      <td>0.011795</td>\n",
       "    </tr>\n",
       "    <tr>\n",
       "      <th>48</th>\n",
       "      <td>0.011628</td>\n",
       "      <td>10_day_WMA</td>\n",
       "      <td>0.011628</td>\n",
       "    </tr>\n",
       "    <tr>\n",
       "      <th>4</th>\n",
       "      <td>0.011468</td>\n",
       "      <td>p_Close</td>\n",
       "      <td>0.011468</td>\n",
       "    </tr>\n",
       "    <tr>\n",
       "      <th>47</th>\n",
       "      <td>0.011385</td>\n",
       "      <td>12_day_EMA</td>\n",
       "      <td>0.011385</td>\n",
       "    </tr>\n",
       "    <tr>\n",
       "      <th>8</th>\n",
       "      <td>0.009361</td>\n",
       "      <td>Weekday</td>\n",
       "      <td>0.009361</td>\n",
       "    </tr>\n",
       "    <tr>\n",
       "      <th>9</th>\n",
       "      <td>0.007882</td>\n",
       "      <td>Month</td>\n",
       "      <td>0.007882</td>\n",
       "    </tr>\n",
       "    <tr>\n",
       "      <th>50</th>\n",
       "      <td>0.004661</td>\n",
       "      <td>Quarter_2</td>\n",
       "      <td>0.004661</td>\n",
       "    </tr>\n",
       "    <tr>\n",
       "      <th>54</th>\n",
       "      <td>0.001734</td>\n",
       "      <td>Rel_ExDD_-2</td>\n",
       "      <td>0.001734</td>\n",
       "    </tr>\n",
       "    <tr>\n",
       "      <th>51</th>\n",
       "      <td>0.001044</td>\n",
       "      <td>Quarter_3</td>\n",
       "      <td>0.001044</td>\n",
       "    </tr>\n",
       "    <tr>\n",
       "      <th>52</th>\n",
       "      <td>0.000945</td>\n",
       "      <td>Quarter_4</td>\n",
       "      <td>0.000945</td>\n",
       "    </tr>\n",
       "    <tr>\n",
       "      <th>49</th>\n",
       "      <td>0.000636</td>\n",
       "      <td>Quarter_1</td>\n",
       "      <td>0.000636</td>\n",
       "    </tr>\n",
       "    <tr>\n",
       "      <th>56</th>\n",
       "      <td>0.000000</td>\n",
       "      <td>Rel_ExDD_Invalid</td>\n",
       "      <td>0.000000</td>\n",
       "    </tr>\n",
       "  </tbody>\n",
       "</table>\n",
       "</div>"
      ],
      "text/plain": [
       "       coeff        feature_name  abs_coeff\n",
       "7   0.081474       Dividend/p_Pc   0.081474\n",
       "0   0.033581        Due_Dividend   0.033581\n",
       "37  0.031793                 RSI   0.031793\n",
       "55  0.026823         Rel_ExDD_-1   0.026823\n",
       "13  0.025377      p_High/p_Close   0.025377\n",
       "36  0.023478         StochSlow_D   0.023478\n",
       "35  0.023380         StochSlow_K   0.023380\n",
       "34  0.023195         StochFast_D   0.023195\n",
       "26  0.022303           MACD_long   0.022303\n",
       "33  0.021903         StochFast_K   0.021903\n",
       "6   0.021861            p_Volume   0.021861\n",
       "20  0.021672             ATTO_45   0.021672\n",
       "27  0.021638    MACD_Signal_long   0.021638\n",
       "16  0.021498                 TTO   0.021498\n",
       "18  0.021393            TTO_MA45   0.021393\n",
       "12  0.021222       p_Low/p_Close   0.021222\n",
       "28  0.021172      MACD_hist_long   0.021172\n",
       "17  0.020717             TTO_MA5   0.020717\n",
       "22  0.019938             Beta_64   0.019938\n",
       "38  0.019837          Williams_R   0.019837\n",
       "43  0.019493  10_day_SMA/p_Close   0.019493\n",
       "45  0.018992  10_day_WMA/p_Close   0.018992\n",
       "41  0.018820                 CCI   0.018820\n",
       "42  0.018771                Bias   0.018771\n",
       "32  0.017822      Momentum_short   0.017822\n",
       "11  0.017734      p_Open/p_Close   0.017734\n",
       "30  0.017677            PPO_long   0.017677\n",
       "31  0.017564       Momentum_long   0.017564\n",
       "39  0.017505                 ADO   0.017505\n",
       "44  0.016843  12_day_EMA/p_Close   0.016843\n",
       "15  0.016697    p2_Close/p_Close   0.016697\n",
       "25  0.016660     MACD_hist_short   0.016660\n",
       "53  0.016524         Rel_ExDD_-3   0.016524\n",
       "40  0.016013                 OBV   0.016013\n",
       "19  0.015898              ATTO_5   0.015898\n",
       "29  0.015820           PPO_short   0.015820\n",
       "10  0.015055                Week   0.015055\n",
       "14  0.014925        Open/p_Close   0.014925\n",
       "23  0.014792          MACD_short   0.014792\n",
       "24  0.014561   MACD_Signal_short   0.014561\n",
       "21  0.013849             Beta_22   0.013849\n",
       "46  0.013499          10_day_SMA   0.013499\n",
       "3   0.013104               p_Low   0.013104\n",
       "5   0.012366            p2_Close   0.012366\n",
       "2   0.012221              p_High   0.012221\n",
       "1   0.011795              p_Open   0.011795\n",
       "48  0.011628          10_day_WMA   0.011628\n",
       "4   0.011468             p_Close   0.011468\n",
       "47  0.011385          12_day_EMA   0.011385\n",
       "8   0.009361             Weekday   0.009361\n",
       "9   0.007882               Month   0.007882\n",
       "50  0.004661           Quarter_2   0.004661\n",
       "54  0.001734         Rel_ExDD_-2   0.001734\n",
       "51  0.001044           Quarter_3   0.001044\n",
       "52  0.000945           Quarter_4   0.000945\n",
       "49  0.000636           Quarter_1   0.000636\n",
       "56  0.000000    Rel_ExDD_Invalid   0.000000"
      ]
     },
     "execution_count": 62,
     "metadata": {},
     "output_type": "execute_result"
    }
   ],
   "source": [
    "fim.sort_values(by='abs_coeff', ascending=False)"
   ]
  },
  {
   "cell_type": "code",
   "execution_count": 11,
   "metadata": {},
   "outputs": [
    {
     "name": "stdout",
     "output_type": "stream",
     "text": [
      "Agent bought VST 4 times from 2019 to 2021\n",
      "Agent bought DOW 4 times from 2019 to 2021\n",
      "Agent bought FOXA 2 times from 2019 to 2021\n",
      "Agent bought CTVA 0 times from 2019 to 2021\n",
      "Agent bought YY 3 times from 2019 to 2021\n",
      "Agent bought RPRX 1 times from 2019 to 2021\n"
     ]
    }
   ],
   "source": [
    "#Always losing in training data but not in test data\n",
    "for ticker in ['VST','DOW','FOXA','CTVA','YY','RPRX']:\n",
    "    print('Agent bought {} {} times from 2019 to 2021'.format(ticker, step_actions2.count(ticker)))"
   ]
  },
  {
   "cell_type": "code",
   "execution_count": 12,
   "metadata": {},
   "outputs": [
    {
     "name": "stdout",
     "output_type": "stream",
     "text": [
      "Agent bought GSK 2 times from 2019 to 2021\n",
      "Agent bought SAP 1 times from 2019 to 2021\n",
      "Agent bought NLY 8 times from 2019 to 2021\n",
      "Agent bought AZN 3 times from 2019 to 2021\n",
      "Agent bought PGR 6 times from 2019 to 2021\n",
      "Agent bought NVS 3 times from 2019 to 2021\n",
      "Agent bought NTR 4 times from 2019 to 2021\n"
     ]
    }
   ],
   "source": [
    "#Always winning in training data but not in test data\n",
    "for ticker in ['GSK','SAP','NLY','AZN','PGR','NVS','NTR']:\n",
    "    print('Agent bought {} {} times from 2019 to 2021'.format(ticker, step_actions2.count(ticker)))"
   ]
  },
  {
   "cell_type": "code",
   "execution_count": null,
   "metadata": {},
   "outputs": [],
   "source": []
  }
 ],
 "metadata": {
  "kernelspec": {
   "display_name": "Python 3",
   "language": "python",
   "name": "python3"
  },
  "language_info": {
   "codemirror_mode": {
    "name": "ipython",
    "version": 3
   },
   "file_extension": ".py",
   "mimetype": "text/x-python",
   "name": "python",
   "nbconvert_exporter": "python",
   "pygments_lexer": "ipython3",
   "version": "3.8.5"
  }
 },
 "nbformat": 4,
 "nbformat_minor": 2
}
