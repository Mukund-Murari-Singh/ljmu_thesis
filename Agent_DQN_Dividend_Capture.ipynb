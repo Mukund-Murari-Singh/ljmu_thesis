{
 "cells": [
  {
   "cell_type": "markdown",
   "metadata": {},
   "source": [
    "### Dividend Capture Strategy Agent using DQN"
   ]
  },
  {
   "cell_type": "markdown",
   "metadata": {},
   "source": [
    "In this project, i will create the environment and an RL agent that learns to choose the best scheme of dividend investing given a dividend calendar and up-to-date market data."
   ]
  },
  {
   "cell_type": "markdown",
   "metadata": {},
   "source": [
    "Importing libraries"
   ]
  },
  {
   "cell_type": "code",
   "execution_count": 5,
   "metadata": {},
   "outputs": [],
   "source": [
    "import numpy as np, pandas as pd, matplotlib.pyplot as plt, re #, xlrd\n",
    "import datetime, pickle, math#, openpyxl\n",
    "from tqdm.notebook import tqdm_notebook\n",
    "from sklearn.metrics import precision_score, recall_score, make_scorer\n",
    "import collections\n",
    "from collections import deque\n",
    "\n",
    "import random, time\n",
    "\n",
    "import tensorflow as tf\n",
    "#import keras\n",
    "from tensorflow.keras.layers import Dense, Dropout, BatchNormalization, Activation, Flatten\n",
    "from tensorflow.keras.models import Sequential\n",
    "from tensorflow.keras.optimizers import Adam\n",
    "from tensorflow.keras import regularizers\n",
    "#from keras.models import model_from_json\n",
    "\n",
    "import warnings\n",
    "warnings.filterwarnings(\"ignore\")"
   ]
  },
  {
   "cell_type": "code",
   "execution_count": 6,
   "metadata": {},
   "outputs": [],
   "source": [
    "#from env_dqn import market\n",
    "from env_dqn import market"
   ]
  },
  {
   "cell_type": "code",
   "execution_count": 116,
   "metadata": {},
   "outputs": [],
   "source": [
    "#Track total reward per episode and check for stability which indicated convergence\n",
    "all_episode_portfolio=[] #saving the portfolio value at end of each episode\n",
    "all_episode_rewards=[] #reward at end of each episode\n",
    "all_actions=[]\n",
    "all_episode_dividends=[]\n",
    "#random_action_count=0 #count steps with random action selection\n",
    "#total_steps_count=0 #count steps in all episodes"
   ]
  },
  {
   "cell_type": "code",
   "execution_count": 283,
   "metadata": {},
   "outputs": [
    {
     "data": {
      "image/png": "[encoded data removed]",
      "text/plain": [
       "<Figure size 432x288 with 1 Axes>"
      ]
     },
     "metadata": {
      "needs_background": "light"
     },
     "output_type": "display_data"
    }
   ],
   "source": [
    "episodes_counts = np.arange(0,400*1100)\n",
    "epsilon = []\n",
    "for i in range(0,400*1100):\n",
    "    epsilon.append(0 + (1 - 0) * np.exp(-0.000005*i))\n",
    "\n",
    "plt.plot(episodes_counts, epsilon)\n",
    "plt.axhline(y=0.57, color='r', linestyle=':')\n",
    "plt.axvline(x=100*1100, color='g', linestyle=':')\n",
    "plt.show()"
   ]
  },
  {
   "cell_type": "code",
   "execution_count": 118,
   "metadata": {},
   "outputs": [],
   "source": [
    "#action is returned as the index of the chosen action from action space; it is needed to be saved as an index for agent to work\n",
    "#only needs encoded state to work; can call env.function() to do it within this block\n",
    "#similarly, env.function() can be called to convert the action number to a ticker\n",
    "class REINFORCEAgent:\n",
    "    def __init__(self, state_length, state_width,action_size):\n",
    "        \n",
    "        # get size of state and action\n",
    "        self.state_length = state_length #state_size\n",
    "        self.state_width = state_width\n",
    "        self.action_size = action_size\n",
    "\n",
    "        # These are hyper parameters for the Policy Gradient\n",
    "        self.discount_factor = 0.01 #0.99\n",
    "        self.learning_rate = 0.01 #0.001\n",
    "        self.hidden1, self.hidden2, self.hidden3  = 128, 64, 32\n",
    "\n",
    "        # create model for policy network\n",
    "        self.model = self.build_model()\n",
    "\n",
    "        # lists for the states, actions and rewards\n",
    "        self.states, self.actions, self.rewards = [], [], []\n",
    "        self.full_state=[]\n",
    "        \n",
    "        self.batch_size = 32\n",
    "        \n",
    "        #Set epsilon for decay\n",
    "        self.epsilon_max = 1\n",
    "        self.epsilon_decay = np.exp(-0.000005)#(-0.0028)#(-0.000005) #-0.00035, -0.000003\n",
    "        self.epsilon_min = 0.00000001      \n",
    "        self.epsilon=self.epsilon_max\n",
    "        self.total_steps_count=0\n",
    "        self.random_action_count=0\n",
    "        \n",
    "        # create replay memory using deque\n",
    "        self.memory = deque(maxlen=2000)\n",
    "        \n",
    "    \n",
    "    def custom_loss(self, y_true, y_pred):\n",
    "        loss_calc=0.0\n",
    "        for i in range(len(y_pred)):\n",
    "            if (y_pred[i][0][1]>0.5) & (y_true[i][0][1]==1):\n",
    "                loss_calc=-0.005\n",
    "            elif (y_pred[i][0][1]>0.5) & (y_true[i][0][1]==0):\n",
    "                loss_calc=0.03\n",
    "        return loss_calc\n",
    "    \n",
    "    def build_model(self):\n",
    "        model = Sequential()\n",
    "        model.add(Dense(self.hidden1, input_shape=(self.state_length,self.state_width), activation='relu', kernel_initializer='glorot_uniform'))\n",
    "        model.add(Flatten()) \n",
    "        model.add(Dropout(0.5))\n",
    "        model.add(Dense(self.hidden2, activation='relu', kernel_initializer='glorot_uniform'))\n",
    "        model.add(Dropout(0.6))\n",
    "        model.add(Dense(self.hidden3, activation='relu', kernel_initializer='glorot_uniform'))\n",
    "        #model.add(Dropout(0.7))\n",
    "         \n",
    "        model.add(Dense(self.action_size, activation='softmax', kernel_initializer='glorot_uniform'))\n",
    "        #model.summary()\n",
    "        model.compile(loss=\"mse\", optimizer=Adam(lr=self.learning_rate))\n",
    "        return model\n",
    "    \n",
    "    # returns index of chosen action in env.action_space\n",
    "    def get_action(self, state, reshaped_encoded_state):\n",
    "        valid_actions=env.get_valid_actions(state)\n",
    "        valid_actions_idx=[env.action_space.index(i) for i in valid_actions]\n",
    "        z=np.random.rand()\n",
    "        if z <= self.epsilon:                         #if z<=epsilon, then go exploration; select random action from all possible actions\n",
    "            return valid_actions_idx[random.randrange(len(valid_actions_idx))]\n",
    "        else:                                         #if z>epsilon, then go exploitation; select best action from all possible actions\n",
    "            #Encode state first and then send to model for prediction; the agent appears to only need the encoded state to work\n",
    "            #Action has to be in the form of a number for this function to work\n",
    "            q_value = self.model.predict(reshaped_encoded_state)\n",
    "            valid_q_vals=[q_value[0][i] for i in valid_actions_idx]\n",
    "            return valid_actions_idx[np.argmax(valid_q_vals)]\n",
    "\n",
    "    # save <s, a ,r> of each step\n",
    "    def append_sample(self, state, action, reward, next_state):\n",
    "        # save sample <s,a,r,s'> to the replay memory\n",
    "        # Adding sample to the memory. \n",
    "        self.memory.append((state, action, reward, next_state)) #, #done))\n",
    "        \n",
    "        # Decay in ε after we generate each sample from the environment\n",
    "        if self.epsilon > self.epsilon_min:\n",
    "            self.epsilon *= self.epsilon_decay\n",
    "\n",
    "    # update network\n",
    "    def train_model(self):\n",
    "        if len(self.memory) > self.batch_size:\n",
    "            # Sample batch from the memory\n",
    "            mini_batch = random.sample(self.memory, self.batch_size)\n",
    "            update_output = np.zeros((self.batch_size,self.state_length,self.state_width)) #,1)) # write here s'\n",
    "            update_input = np.zeros((self.batch_size,self.state_length,self.state_width)) #,1)) # write here s\n",
    "            actions, rewards = [], []\n",
    "            \n",
    "            for i in range(self.batch_size): #populate arrays & lists of s,a,r,s' based on mini_batch picked up from memory\n",
    "                state1, action1, reward1, next_state1 = mini_batch[i]\n",
    "                state_encod1 = env.state_encoder(state1).reshape(-1,329,57) #,action)\n",
    "                next_state_encod= env.state_encoder(next_state1).reshape(-1,329,57)\n",
    "                update_input[i] = state_encod1       #s\n",
    "                actions.append(action1)              #a\n",
    "                rewards.append(reward1)              #r\n",
    "                update_output[i] = next_state_encod #s'\n",
    "                \n",
    "            # 1. Predict the target from earlier model\n",
    "            Q_s_a = self.model.predict(update_input)\n",
    "                            \n",
    "            # 2. Get the target for the Q-network\n",
    "            Q_s_prime_a=self.model.predict(update_output)\n",
    "            \n",
    "            #3. Update your 'update_output' and 'update_input' batch. Be careful to use the encoded state-action pair\n",
    "            for i in range(self.batch_size):\n",
    "                if terminal_state==True:\n",
    "                    Q_s_a[i][actions[i]] = rewards[i]\n",
    "                else:\n",
    "                    Q_s_a[i][actions[i]] = rewards[i] + self.discount_factor*(np.amax(Q_s_prime_a[i])) # Q Learning: get maximum Q value at s' from target model\n",
    "            # 4. Fit your model and track the loss values\n",
    "            self.model.fit(update_input, Q_s_a, batch_size=self.batch_size, epochs=3, verbose=0)\n",
    "        else:\n",
    "            return\n",
    "\n",
    "    def save(self, name):\n",
    "        self.model.save_weights(name)"
   ]
  },
  {
   "cell_type": "code",
   "execution_count": 9,
   "metadata": {},
   "outputs": [],
   "source": [
    "training_cols2=['Due_Dividend', 'p_Open', 'p_High', 'p_Low', 'p_Close', 'p2_Close', 'p_Volume', 'Dividend/p_Pc', 'Weekday', 'Month',\n",
    " 'Week', 'p_Open/p_Close', 'p_Low/p_Close', 'p_High/p_Close', 'Open/p_Close', 'p2_Close/p_Close', 'TTO', 'TTO_MA5', 'TTO_MA45', 'ATTO_5',\n",
    " 'ATTO_45', 'Beta_22', 'Beta_64', 'MACD_short', 'MACD_Signal_short', 'MACD_hist_short', 'MACD_long', 'MACD_Signal_long',  'MACD_hist_long', 'PPO_short', 'PPO_long', 'Momentum_long', 'Momentum_short', 'StochFast_K', 'StochFast_D', 'StochSlow_K',  'StochSlow_D', 'RSI', 'Williams_R', 'ADO', 'OBV', 'CCI', 'Bias', '10_day_SMA/p_Close', '12_day_EMA/p_Close', '10_day_WMA/p_Close',\n",
    " '10_day_SMA', '12_day_EMA', '10_day_WMA', 'Quarter_1', 'Quarter_2', 'Quarter_3', 'Quarter_4', 'Rel_ExDD_-3', 'Rel_ExDD_-2',  'Rel_ExDD_-1', 'Rel_ExDD_Invalid']"
   ]
  },
  {
   "cell_type": "code",
   "execution_count": 7,
   "metadata": {},
   "outputs": [],
   "source": [
    "#Initialize environment\n",
    "env=market()\n",
    "# Defining number of episodes to train\n",
    "EPISODES = 450 #400"
   ]
  },
  {
   "cell_type": "code",
   "execution_count": 10,
   "metadata": {},
   "outputs": [],
   "source": [
    "#Initialize agent\n",
    "\n",
    "# get size of state and action from environment\n",
    "#state_size = len(env.action_space)-1,len(training_cols2) #(329,57)\n",
    "state_length=len(env.action_space)-1 #329\n",
    "state_width=len(training_cols2) #57\n",
    "action_size = len(env.action_space) #329+1 including the action of not buying anything\n",
    "\n",
    "triggers=[0,0,0,0,0,0,0]\n",
    "all_triggers=[]"
   ]
  },
  {
   "cell_type": "code",
   "execution_count": 124,
   "metadata": {},
   "outputs": [],
   "source": [
    "# make REINFORCE agent\n",
    "agent = REINFORCEAgent(state_length, state_width, action_size)"
   ]
  },
  {
   "cell_type": "code",
   "execution_count": 125,
   "metadata": {
    "scrolled": false
   },
   "outputs": [
    {
     "name": "stdout",
     "output_type": "stream",
     "text": [
      "Model: \"sequential_6\"\n",
      "_________________________________________________________________\n",
      "Layer (type)                 Output Shape              Param #   \n",
      "=================================================================\n",
      "dense_24 (Dense)             (None, 329, 128)          7424      \n",
      "_________________________________________________________________\n",
      "flatten_6 (Flatten)          (None, 42112)             0         \n",
      "_________________________________________________________________\n",
      "dropout_12 (Dropout)         (None, 42112)             0         \n",
      "_________________________________________________________________\n",
      "dense_25 (Dense)             (None, 64)                2695232   \n",
      "_________________________________________________________________\n",
      "dropout_13 (Dropout)         (None, 64)                0         \n",
      "_________________________________________________________________\n",
      "dense_26 (Dense)             (None, 32)                2080      \n",
      "_________________________________________________________________\n",
      "dense_27 (Dense)             (None, 330)               10890     \n",
      "=================================================================\n",
      "Total params: 2,715,626\n",
      "Trainable params: 2,715,626\n",
      "Non-trainable params: 0\n",
      "_________________________________________________________________\n"
     ]
    }
   ],
   "source": [
    "agent.model.summary()"
   ]
  },
  {
   "cell_type": "code",
   "execution_count": 126,
   "metadata": {
    "scrolled": true
   },
   "outputs": [
    {
     "data": {
      "application/vnd.jupyter.widget-view+json": {
       "model_id": "bf8a6618fe8247a6b0343fbf475a1343",
       "version_major": 2,
       "version_minor": 0
      },
      "text/plain": [
       "HBox(children=(HTML(value=''), FloatProgress(value=0.0, max=450.0), HTML(value='')))"
      ]
     },
     "metadata": {},
     "output_type": "display_data"
    },
    {
     "name": "stdout",
     "output_type": "stream",
     "text": [
      "Episode:1,Epsilon:0.99,Steps:1193,Reward:1.9,Portfolio:2.9,Dividend:2.35,Triggers:[446, 15, 184, 28, 209, 194, 0], Actions:1076\n",
      "Episode:2,Epsilon:0.99,Steps:1193,Reward:1.15,Portfolio:2.15,Dividend:2.0,Triggers:[470, 38, 168, 14, 233, 162, 1], Actions:1086\n",
      "Episode:3,Epsilon:0.98,Steps:1193,Reward:1.34,Portfolio:2.34,Dividend:2.22,Triggers:[474, 34, 186, 20, 212, 170, 1], Actions:1097\n",
      "Episode:4,Epsilon:0.98,Steps:1193,Reward:1.55,Portfolio:2.55,Dividend:2.25,Triggers:[474, 24, 188, 18, 214, 168, 1], Actions:1087\n",
      "Episode:5,Epsilon:0.97,Steps:1193,Reward:1.97,Portfolio:2.97,Dividend:2.24,Triggers:[454, 25, 192, 19, 209, 174, 0], Actions:1073\n",
      "Episode:6,Epsilon:0.96,Steps:1193,Reward:1.53,Portfolio:2.53,Dividend:2.3,Triggers:[477, 23, 204, 28, 202, 150, 1], Actions:1085\n",
      "Episode:7,Epsilon:0.96,Steps:1193,Reward:1.73,Portfolio:2.73,Dividend:2.09,Triggers:[466, 34, 181, 30, 208, 160, 0], Actions:1079\n",
      "Episode:8,Epsilon:0.95,Steps:1193,Reward:2.18,Portfolio:3.18,Dividend:2.36,Triggers:[479, 25, 196, 19, 207, 160, 0], Actions:1086\n",
      "Episode:9,Epsilon:0.95,Steps:1193,Reward:2.0,Portfolio:3.0,Dividend:2.09,Triggers:[481, 23, 200, 18, 212, 144, 0], Actions:1078\n",
      "Episode:10,Epsilon:0.94,Steps:1193,Reward:1.83,Portfolio:2.83,Dividend:2.19,Triggers:[443, 45, 210, 18, 212, 155, 0], Actions:1083\n",
      "Episode:11,Epsilon:0.94,Steps:1193,Reward:2.09,Portfolio:3.09,Dividend:2.26,Triggers:[486, 20, 190, 16, 192, 177, 0], Actions:1081\n",
      "Episode:12,Epsilon:0.93,Steps:1193,Reward:2.36,Portfolio:3.36,Dividend:2.49,Triggers:[502, 24, 188, 20, 204, 164, 0], Actions:1102\n",
      "Episode:13,Epsilon:0.93,Steps:1193,Reward:1.09,Portfolio:2.09,Dividend:2.4,Triggers:[474, 26, 193, 23, 184, 190, 2], Actions:1092\n",
      "Episode:14,Epsilon:0.92,Steps:1193,Reward:1.27,Portfolio:2.27,Dividend:2.43,Triggers:[475, 34, 191, 14, 209, 167, 2], Actions:1092\n",
      "Episode:15,Epsilon:0.91,Steps:1193,Reward:2.25,Portfolio:3.25,Dividend:2.56,Triggers:[454, 26, 196, 25, 213, 165, 0], Actions:1079\n",
      "Episode:16,Epsilon:0.91,Steps:1193,Reward:2.08,Portfolio:3.08,Dividend:2.33,Triggers:[478, 30, 177, 17, 217, 185, 0], Actions:1104\n",
      "Episode:17,Epsilon:0.9,Steps:1193,Reward:1.92,Portfolio:2.92,Dividend:2.3,Triggers:[477, 38, 194, 22, 201, 166, 0], Actions:1098\n",
      "Episode:18,Epsilon:0.9,Steps:1193,Reward:1.84,Portfolio:2.84,Dividend:2.13,Triggers:[518, 35, 163, 20, 206, 149, 0], Actions:1091\n",
      "Episode:19,Epsilon:0.89,Steps:1193,Reward:2.12,Portfolio:3.12,Dividend:2.25,Triggers:[482, 20, 175, 20, 222, 165, 0], Actions:1084\n",
      "Episode:20,Epsilon:0.89,Steps:1193,Reward:2.35,Portfolio:3.35,Dividend:2.74,Triggers:[484, 27, 170, 24, 222, 171, 0], Actions:1098\n",
      "Episode:21,Epsilon:0.88,Steps:1193,Reward:2.32,Portfolio:3.32,Dividend:2.62,Triggers:[488, 24, 165, 24, 230, 156, 0], Actions:1087\n",
      "Episode:22,Epsilon:0.88,Steps:1193,Reward:2.32,Portfolio:3.32,Dividend:2.51,Triggers:[463, 32, 182, 14, 240, 168, 0], Actions:1099\n",
      "Episode:23,Epsilon:0.87,Steps:1193,Reward:2.52,Portfolio:3.52,Dividend:2.87,Triggers:[476, 30, 197, 23, 201, 166, 0], Actions:1093\n",
      "Episode:24,Epsilon:0.87,Steps:1193,Reward:1.83,Portfolio:2.83,Dividend:2.62,Triggers:[475, 36, 194, 23, 222, 166, 1], Actions:1117\n",
      "Episode:25,Epsilon:0.86,Steps:1193,Reward:1.09,Portfolio:2.09,Dividend:2.43,Triggers:[470, 27, 185, 21, 222, 167, 2], Actions:1094\n",
      "Episode:26,Epsilon:0.86,Steps:1193,Reward:2.07,Portfolio:3.07,Dividend:2.79,Triggers:[479, 27, 185, 19, 219, 183, 1], Actions:1113\n",
      "Episode:27,Epsilon:0.85,Steps:1193,Reward:2.26,Portfolio:3.26,Dividend:2.65,Triggers:[472, 31, 172, 22, 217, 177, 0], Actions:1091\n",
      "Episode:28,Epsilon:0.85,Steps:1193,Reward:2.04,Portfolio:3.04,Dividend:2.69,Triggers:[492, 25, 170, 24, 233, 153, 1], Actions:1098\n",
      "Episode:29,Epsilon:0.84,Steps:1193,Reward:2.18,Portfolio:3.18,Dividend:2.54,Triggers:[474, 28, 197, 24, 223, 166, 0], Actions:1112\n",
      "Episode:30,Epsilon:0.84,Steps:1193,Reward:2.45,Portfolio:3.45,Dividend:2.73,Triggers:[485, 28, 189, 14, 214, 185, 0], Actions:1115\n",
      "Episode:31,Epsilon:0.83,Steps:1193,Reward:2.24,Portfolio:3.24,Dividend:2.46,Triggers:[484, 34, 178, 15, 231, 145, 0], Actions:1087\n",
      "Episode:32,Epsilon:0.83,Steps:1193,Reward:2.61,Portfolio:3.61,Dividend:2.8,Triggers:[489, 28, 190, 21, 227, 147, 0], Actions:1102\n",
      "Episode:33,Epsilon:0.82,Steps:1193,Reward:3.09,Portfolio:4.09,Dividend:3.18,Triggers:[425, 28, 204, 18, 258, 170, 0], Actions:1103\n",
      "Episode:34,Epsilon:0.82,Steps:1193,Reward:1.63,Portfolio:2.63,Dividend:2.57,Triggers:[473, 33, 186, 27, 218, 168, 1], Actions:1106\n",
      "Episode:35,Epsilon:0.81,Steps:1193,Reward:2.41,Portfolio:3.41,Dividend:2.83,Triggers:[462, 41, 193, 21, 225, 163, 0], Actions:1105\n",
      "Episode:36,Epsilon:0.81,Steps:1193,Reward:2.5,Portfolio:3.5,Dividend:2.66,Triggers:[497, 25, 191, 26, 217, 151, 0], Actions:1107\n",
      "Episode:37,Epsilon:0.8,Steps:1193,Reward:1.76,Portfolio:2.76,Dividend:2.6,Triggers:[481, 35, 184, 22, 221, 162, 1], Actions:1106\n",
      "Episode:38,Epsilon:0.8,Steps:1193,Reward:2.37,Portfolio:3.37,Dividend:2.78,Triggers:[488, 27, 172, 30, 214, 167, 0], Actions:1098\n",
      "Episode:39,Epsilon:0.79,Steps:1193,Reward:2.19,Portfolio:3.19,Dividend:2.66,Triggers:[483, 35, 173, 20, 203, 190, 0], Actions:1104\n",
      "Episode:40,Epsilon:0.79,Steps:1193,Reward:2.16,Portfolio:3.16,Dividend:2.56,Triggers:[485, 26, 178, 25, 207, 185, 0], Actions:1106\n",
      "Episode:41,Epsilon:0.78,Steps:1193,Reward:2.45,Portfolio:3.45,Dividend:2.77,Triggers:[495, 23, 180, 21, 205, 180, 0], Actions:1104\n",
      "Episode:42,Epsilon:0.78,Steps:1193,Reward:2.29,Portfolio:3.29,Dividend:2.94,Triggers:[490, 23, 183, 17, 223, 157, 1], Actions:1094\n",
      "Episode:43,Epsilon:0.77,Steps:1193,Reward:2.54,Portfolio:3.54,Dividend:2.86,Triggers:[477, 32, 184, 21, 237, 155, 0], Actions:1106\n",
      "Episode:44,Epsilon:0.77,Steps:1193,Reward:2.47,Portfolio:3.47,Dividend:2.76,Triggers:[494, 37, 178, 11, 218, 172, 0], Actions:1110\n",
      "Episode:45,Epsilon:0.76,Steps:1193,Reward:2.23,Portfolio:3.23,Dividend:2.57,Triggers:[475, 32, 200, 16, 212, 179, 0], Actions:1114\n",
      "Episode:46,Epsilon:0.76,Steps:1193,Reward:2.33,Portfolio:3.33,Dividend:2.46,Triggers:[503, 29, 189, 15, 220, 164, 0], Actions:1120\n",
      "Episode:47,Epsilon:0.76,Steps:1193,Reward:2.51,Portfolio:3.51,Dividend:2.66,Triggers:[500, 33, 189, 22, 233, 141, 0], Actions:1118\n",
      "Episode:48,Epsilon:0.75,Steps:1193,Reward:2.28,Portfolio:3.28,Dividend:3.08,Triggers:[502, 37, 186, 24, 210, 157, 1], Actions:1117\n",
      "Episode:49,Epsilon:0.75,Steps:1193,Reward:2.65,Portfolio:3.65,Dividend:2.83,Triggers:[506, 23, 195, 21, 212, 155, 0], Actions:1112\n",
      "Episode:50,Epsilon:0.74,Steps:1193,Reward:2.4,Portfolio:3.4,Dividend:2.77,Triggers:[478, 33, 195, 29, 209, 164, 0], Actions:1108\n",
      "Episode:51,Epsilon:0.74,Steps:1193,Reward:2.72,Portfolio:3.72,Dividend:3.11,Triggers:[470, 29, 192, 23, 202, 172, 0], Actions:1088\n",
      "Episode:52,Epsilon:0.73,Steps:1193,Reward:2.52,Portfolio:3.52,Dividend:2.73,Triggers:[491, 32, 175, 13, 232, 166, 0], Actions:1109\n",
      "Episode:53,Epsilon:0.73,Steps:1193,Reward:2.97,Portfolio:3.97,Dividend:3.28,Triggers:[499, 29, 197, 24, 198, 165, 0], Actions:1112\n",
      "Episode:54,Epsilon:0.72,Steps:1193,Reward:2.58,Portfolio:3.58,Dividend:2.74,Triggers:[511, 27, 182, 13, 211, 175, 0], Actions:1119\n",
      "Episode:55,Epsilon:0.72,Steps:1193,Reward:3.0,Portfolio:4.0,Dividend:3.01,Triggers:[481, 29, 208, 13, 199, 177, 0], Actions:1107\n",
      "Episode:56,Epsilon:0.72,Steps:1193,Reward:2.71,Portfolio:3.71,Dividend:2.85,Triggers:[495, 26, 198, 17, 221, 155, 0], Actions:1112\n",
      "Episode:57,Epsilon:0.71,Steps:1193,Reward:2.71,Portfolio:3.71,Dividend:3.37,Triggers:[472, 16, 201, 22, 226, 178, 1], Actions:1116\n",
      "Episode:58,Epsilon:0.71,Steps:1193,Reward:2.98,Portfolio:3.98,Dividend:3.06,Triggers:[506, 30, 197, 15, 198, 171, 0], Actions:1117\n",
      "Episode:59,Epsilon:0.7,Steps:1193,Reward:2.86,Portfolio:3.86,Dividend:3.07,Triggers:[501, 25, 190, 24, 221, 146, 0], Actions:1107\n",
      "Episode:60,Epsilon:0.7,Steps:1193,Reward:2.44,Portfolio:3.44,Dividend:2.73,Triggers:[491, 29, 176, 24, 221, 161, 0], Actions:1102\n",
      "Episode:61,Epsilon:0.69,Steps:1193,Reward:2.18,Portfolio:3.18,Dividend:3.01,Triggers:[481, 31, 192, 22, 212, 171, 1], Actions:1110\n",
      "Episode:62,Epsilon:0.69,Steps:1193,Reward:2.76,Portfolio:3.76,Dividend:3.09,Triggers:[480, 30, 198, 23, 221, 170, 0], Actions:1122\n",
      "Episode:63,Epsilon:0.69,Steps:1193,Reward:2.93,Portfolio:3.93,Dividend:3.09,Triggers:[492, 27, 203, 13, 210, 178, 0], Actions:1123\n"
     ]
    },
    {
     "name": "stdout",
     "output_type": "stream",
     "text": [
      "Episode:64,Epsilon:0.68,Steps:1193,Reward:2.06,Portfolio:3.06,Dividend:2.86,Triggers:[488, 35, 214, 26, 207, 150, 1], Actions:1121\n",
      "Episode:65,Epsilon:0.68,Steps:1193,Reward:3.06,Portfolio:4.06,Dividend:3.25,Triggers:[480, 19, 212, 21, 210, 179, 0], Actions:1121\n",
      "Episode:66,Epsilon:0.67,Steps:1193,Reward:2.99,Portfolio:3.99,Dividend:3.17,Triggers:[505, 28, 215, 30, 192, 155, 0], Actions:1125\n",
      "Episode:67,Epsilon:0.67,Steps:1193,Reward:1.89,Portfolio:2.89,Dividend:2.7,Triggers:[524, 31, 178, 20, 212, 157, 1], Actions:1123\n",
      "Episode:68,Epsilon:0.67,Steps:1193,Reward:2.08,Portfolio:3.08,Dividend:2.91,Triggers:[507, 29, 187, 28, 231, 159, 1], Actions:1142\n",
      "Episode:69,Epsilon:0.66,Steps:1193,Reward:2.96,Portfolio:3.96,Dividend:3.01,Triggers:[512, 25, 204, 16, 204, 165, 0], Actions:1126\n",
      "Episode:70,Epsilon:0.66,Steps:1193,Reward:2.79,Portfolio:3.79,Dividend:3.1,Triggers:[480, 33, 196, 25, 230, 161, 0], Actions:1125\n",
      "Episode:71,Epsilon:0.65,Steps:1193,Reward:2.8,Portfolio:3.8,Dividend:3.11,Triggers:[484, 33, 184, 21, 205, 168, 0], Actions:1095\n",
      "Episode:72,Epsilon:0.65,Steps:1193,Reward:3.35,Portfolio:4.35,Dividend:3.53,Triggers:[507, 24, 201, 16, 195, 180, 0], Actions:1123\n",
      "Episode:73,Epsilon:0.65,Steps:1193,Reward:2.89,Portfolio:3.89,Dividend:3.15,Triggers:[513, 39, 185, 20, 206, 163, 0], Actions:1126\n",
      "Episode:74,Epsilon:0.64,Steps:1193,Reward:2.63,Portfolio:3.63,Dividend:3.01,Triggers:[485, 27, 194, 25, 208, 180, 0], Actions:1119\n",
      "Episode:75,Epsilon:0.64,Steps:1193,Reward:2.64,Portfolio:3.64,Dividend:2.88,Triggers:[506, 33, 167, 12, 213, 177, 0], Actions:1108\n",
      "Episode:76,Epsilon:0.64,Steps:1193,Reward:3.62,Portfolio:4.62,Dividend:3.64,Triggers:[478, 29, 218, 17, 234, 160, 0], Actions:1136\n",
      "Episode:77,Epsilon:0.63,Steps:1193,Reward:3.17,Portfolio:4.17,Dividend:3.32,Triggers:[495, 19, 209, 26, 211, 168, 0], Actions:1128\n",
      "Episode:78,Epsilon:0.63,Steps:1193,Reward:3.05,Portfolio:4.05,Dividend:3.24,Triggers:[474, 25, 208, 22, 224, 172, 0], Actions:1125\n",
      "Episode:79,Epsilon:0.62,Steps:1193,Reward:2.63,Portfolio:3.63,Dividend:3.28,Triggers:[494, 27, 198, 21, 222, 141, 1], Actions:1104\n",
      "Episode:80,Epsilon:0.62,Steps:1193,Reward:3.13,Portfolio:4.13,Dividend:3.22,Triggers:[477, 27, 212, 14, 210, 187, 0], Actions:1127\n",
      "Episode:81,Epsilon:0.62,Steps:1193,Reward:3.1,Portfolio:4.1,Dividend:3.32,Triggers:[485, 19, 181, 20, 236, 184, 0], Actions:1125\n",
      "Episode:82,Epsilon:0.61,Steps:1193,Reward:3.06,Portfolio:4.06,Dividend:3.41,Triggers:[479, 29, 199, 26, 206, 172, 0], Actions:1111\n",
      "Episode:83,Epsilon:0.61,Steps:1193,Reward:2.57,Portfolio:3.57,Dividend:3.09,Triggers:[523, 27, 203, 11, 197, 161, 1], Actions:1123\n",
      "Episode:84,Epsilon:0.61,Steps:1193,Reward:2.69,Portfolio:3.69,Dividend:2.93,Triggers:[502, 36, 202, 17, 211, 161, 0], Actions:1129\n",
      "Episode:85,Epsilon:0.6,Steps:1193,Reward:2.83,Portfolio:3.83,Dividend:3.47,Triggers:[508, 28, 196, 16, 214, 157, 1], Actions:1120\n",
      "Episode:86,Epsilon:0.6,Steps:1193,Reward:2.64,Portfolio:3.64,Dividend:3.32,Triggers:[519, 27, 189, 17, 197, 176, 1], Actions:1126\n",
      "Episode:87,Epsilon:0.6,Steps:1193,Reward:3.29,Portfolio:4.29,Dividend:3.34,Triggers:[514, 28, 194, 13, 206, 181, 0], Actions:1136\n",
      "Episode:88,Epsilon:0.59,Steps:1193,Reward:2.76,Portfolio:3.76,Dividend:2.88,Triggers:[505, 37, 216, 16, 214, 151, 0], Actions:1139\n",
      "Episode:89,Epsilon:0.59,Steps:1193,Reward:3.04,Portfolio:4.04,Dividend:3.28,Triggers:[504, 34, 211, 24, 210, 151, 0], Actions:1134\n",
      "Episode:90,Epsilon:0.58,Steps:1193,Reward:2.69,Portfolio:3.69,Dividend:3.25,Triggers:[518, 28, 202, 22, 204, 150, 1], Actions:1125\n",
      "Episode:91,Epsilon:0.58,Steps:1193,Reward:3.25,Portfolio:4.25,Dividend:3.4,Triggers:[509, 23, 197, 25, 199, 173, 0], Actions:1126\n",
      "Episode:92,Epsilon:0.58,Steps:1193,Reward:3.03,Portfolio:4.03,Dividend:3.22,Triggers:[483, 36, 204, 16, 216, 161, 0], Actions:1116\n",
      "Episode:93,Epsilon:0.57,Steps:1193,Reward:2.89,Portfolio:3.89,Dividend:3.19,Triggers:[477, 29, 218, 21, 204, 183, 0], Actions:1132\n",
      "Episode:94,Epsilon:0.57,Steps:1193,Reward:3.46,Portfolio:4.46,Dividend:3.55,Triggers:[491, 31, 201, 14, 238, 153, 0], Actions:1128\n",
      "Episode:95,Epsilon:0.57,Steps:1193,Reward:3.01,Portfolio:4.01,Dividend:3.22,Triggers:[507, 26, 196, 20, 218, 170, 0], Actions:1137\n",
      "Episode:96,Epsilon:0.56,Steps:1193,Reward:2.93,Portfolio:3.93,Dividend:3.59,Triggers:[503, 25, 210, 21, 205, 169, 1], Actions:1134\n",
      "Episode:97,Epsilon:0.56,Steps:1193,Reward:2.61,Portfolio:3.61,Dividend:3.29,Triggers:[477, 23, 209, 22, 240, 160, 1], Actions:1132\n",
      "Episode:98,Epsilon:0.56,Steps:1193,Reward:3.53,Portfolio:4.53,Dividend:3.74,Triggers:[491, 28, 219, 20, 210, 167, 0], Actions:1135\n",
      "Episode:99,Epsilon:0.55,Steps:1193,Reward:3.44,Portfolio:4.44,Dividend:3.76,Triggers:[507, 28, 197, 24, 212, 172, 0], Actions:1140\n",
      "Episode:100,Epsilon:0.55,Steps:1193,Reward:3.09,Portfolio:4.09,Dividend:3.31,Triggers:[492, 25, 210, 23, 210, 182, 0], Actions:1142\n",
      "Episode:101,Epsilon:0.55,Steps:1193,Reward:2.07,Portfolio:3.07,Dividend:3.24,Triggers:[492, 29, 217, 12, 215, 170, 2], Actions:1137\n",
      "Episode:102,Epsilon:0.54,Steps:1193,Reward:3.26,Portfolio:4.26,Dividend:3.5,Triggers:[492, 26, 217, 26, 202, 164, 0], Actions:1127\n",
      "Episode:103,Epsilon:0.54,Steps:1193,Reward:3.27,Portfolio:4.27,Dividend:3.41,Triggers:[510, 24, 210, 20, 214, 162, 0], Actions:1140\n",
      "Episode:104,Epsilon:0.54,Steps:1193,Reward:3.37,Portfolio:4.37,Dividend:3.44,Triggers:[491, 23, 229, 22, 215, 156, 0], Actions:1136\n",
      "Episode:105,Epsilon:0.53,Steps:1193,Reward:3.67,Portfolio:4.67,Dividend:3.78,Triggers:[484, 32, 217, 20, 228, 154, 0], Actions:1135\n",
      "Episode:106,Epsilon:0.53,Steps:1193,Reward:3.12,Portfolio:4.12,Dividend:3.28,Triggers:[490, 25, 219, 19, 213, 169, 0], Actions:1135\n",
      "Episode:107,Epsilon:0.53,Steps:1193,Reward:3.19,Portfolio:4.19,Dividend:3.45,Triggers:[481, 29, 210, 25, 221, 173, 0], Actions:1139\n",
      "Episode:108,Epsilon:0.53,Steps:1193,Reward:2.9,Portfolio:3.9,Dividend:3.07,Triggers:[502, 36, 215, 15, 206, 171, 0], Actions:1145\n",
      "Episode:109,Epsilon:0.52,Steps:1193,Reward:3.39,Portfolio:4.39,Dividend:3.63,Triggers:[477, 36, 215, 14, 203, 175, 0], Actions:1120\n",
      "Episode:110,Epsilon:0.52,Steps:1193,Reward:3.38,Portfolio:4.38,Dividend:3.48,Triggers:[508, 28, 201, 15, 215, 178, 0], Actions:1145\n",
      "Episode:111,Epsilon:0.52,Steps:1193,Reward:3.04,Portfolio:4.04,Dividend:3.73,Triggers:[491, 25, 211, 26, 224, 165, 1], Actions:1143\n",
      "Episode:112,Epsilon:0.51,Steps:1193,Reward:3.39,Portfolio:4.39,Dividend:3.63,Triggers:[507, 27, 201, 20, 209, 175, 0], Actions:1139\n",
      "Episode:113,Epsilon:0.51,Steps:1193,Reward:3.69,Portfolio:4.69,Dividend:3.7,Triggers:[511, 30, 211, 17, 211, 159, 0], Actions:1139\n",
      "Episode:114,Epsilon:0.51,Steps:1193,Reward:3.2,Portfolio:4.2,Dividend:3.46,Triggers:[506, 28, 212, 25, 208, 160, 0], Actions:1139\n",
      "Episode:115,Epsilon:0.5,Steps:1193,Reward:3.32,Portfolio:4.32,Dividend:3.42,Triggers:[519, 26, 204, 16, 210, 174, 0], Actions:1149\n",
      "Episode:116,Epsilon:0.5,Steps:1193,Reward:3.47,Portfolio:4.47,Dividend:3.58,Triggers:[517, 21, 211, 26, 201, 163, 0], Actions:1139\n",
      "Episode:117,Epsilon:0.5,Steps:1193,Reward:3.1,Portfolio:4.1,Dividend:3.46,Triggers:[472, 31, 205, 22, 233, 166, 0], Actions:1129\n",
      "Episode:118,Epsilon:0.49,Steps:1193,Reward:2.92,Portfolio:3.92,Dividend:3.11,Triggers:[528, 32, 206, 18, 199, 163, 0], Actions:1146\n",
      "Episode:119,Epsilon:0.49,Steps:1193,Reward:3.41,Portfolio:4.41,Dividend:3.5,Triggers:[501, 22, 218, 22, 210, 172, 0], Actions:1145\n",
      "Episode:120,Epsilon:0.49,Steps:1193,Reward:3.1,Portfolio:4.1,Dividend:3.29,Triggers:[504, 23, 207, 25, 220, 168, 0], Actions:1147\n",
      "Episode:121,Epsilon:0.49,Steps:1193,Reward:3.57,Portfolio:4.57,Dividend:3.69,Triggers:[498, 27, 205, 18, 223, 155, 0], Actions:1126\n",
      "Episode:122,Epsilon:0.48,Steps:1193,Reward:3.17,Portfolio:4.17,Dividend:3.43,Triggers:[492, 30, 216, 17, 203, 181, 0], Actions:1139\n",
      "Episode:123,Epsilon:0.48,Steps:1193,Reward:3.37,Portfolio:4.37,Dividend:3.51,Triggers:[489, 32, 224, 21, 215, 147, 0], Actions:1128\n",
      "Episode:124,Epsilon:0.48,Steps:1193,Reward:3.68,Portfolio:4.68,Dividend:3.81,Triggers:[502, 24, 218, 21, 198, 170, 0], Actions:1133\n",
      "Episode:125,Epsilon:0.47,Steps:1193,Reward:3.43,Portfolio:4.43,Dividend:3.75,Triggers:[486, 30, 210, 17, 201, 191, 0], Actions:1135\n",
      "Episode:126,Epsilon:0.47,Steps:1193,Reward:3.4,Portfolio:4.4,Dividend:3.76,Triggers:[482, 24, 215, 20, 217, 189, 0], Actions:1147\n"
     ]
    },
    {
     "name": "stdout",
     "output_type": "stream",
     "text": [
      "Episode:127,Epsilon:0.47,Steps:1193,Reward:3.47,Portfolio:4.47,Dividend:3.61,Triggers:[501, 21, 211, 19, 197, 189, 0], Actions:1138\n",
      "Episode:128,Epsilon:0.47,Steps:1193,Reward:3.45,Portfolio:4.45,Dividend:3.53,Triggers:[479, 26, 236, 18, 203, 178, 0], Actions:1140\n",
      "Episode:129,Epsilon:0.46,Steps:1193,Reward:3.5,Portfolio:4.5,Dividend:3.69,Triggers:[512, 24, 207, 23, 204, 166, 0], Actions:1136\n",
      "Episode:130,Epsilon:0.46,Steps:1193,Reward:3.42,Portfolio:4.42,Dividend:3.53,Triggers:[500, 29, 209, 19, 203, 164, 0], Actions:1124\n",
      "Episode:131,Epsilon:0.46,Steps:1193,Reward:3.68,Portfolio:4.68,Dividend:3.78,Triggers:[508, 22, 215, 21, 204, 168, 0], Actions:1138\n",
      "Episode:132,Epsilon:0.46,Steps:1193,Reward:3.71,Portfolio:4.71,Dividend:3.73,Triggers:[521, 21, 196, 16, 215, 179, 0], Actions:1148\n",
      "Episode:133,Epsilon:0.45,Steps:1193,Reward:3.36,Portfolio:4.36,Dividend:3.51,Triggers:[502, 19, 208, 17, 213, 186, 0], Actions:1145\n",
      "Episode:134,Epsilon:0.45,Steps:1193,Reward:3.29,Portfolio:4.29,Dividend:3.32,Triggers:[505, 18, 215, 19, 217, 171, 0], Actions:1145\n",
      "Episode:135,Epsilon:0.45,Steps:1193,Reward:3.45,Portfolio:4.45,Dividend:3.66,Triggers:[513, 25, 198, 18, 212, 166, 0], Actions:1132\n",
      "Episode:136,Epsilon:0.44,Steps:1193,Reward:3.68,Portfolio:4.68,Dividend:3.83,Triggers:[513, 23, 220, 25, 201, 167, 0], Actions:1149\n",
      "Episode:137,Epsilon:0.44,Steps:1193,Reward:3.52,Portfolio:4.52,Dividend:3.69,Triggers:[490, 26, 210, 12, 214, 187, 0], Actions:1139\n",
      "Episode:138,Epsilon:0.44,Steps:1193,Reward:3.68,Portfolio:4.68,Dividend:3.75,Triggers:[503, 26, 216, 8, 223, 175, 0], Actions:1151\n",
      "Episode:139,Epsilon:0.44,Steps:1193,Reward:3.09,Portfolio:4.09,Dividend:3.29,Triggers:[473, 27, 239, 22, 210, 168, 0], Actions:1139\n",
      "Episode:140,Epsilon:0.43,Steps:1193,Reward:3.21,Portfolio:4.21,Dividend:3.77,Triggers:[537, 26, 214, 16, 190, 172, 1], Actions:1156\n",
      "Episode:141,Epsilon:0.43,Steps:1193,Reward:3.56,Portfolio:4.56,Dividend:3.7,Triggers:[496, 15, 212, 26, 223, 166, 0], Actions:1138\n",
      "Episode:142,Epsilon:0.43,Steps:1193,Reward:3.3,Portfolio:4.3,Dividend:3.9,Triggers:[513, 31, 214, 17, 211, 168, 1], Actions:1155\n",
      "Episode:143,Epsilon:0.43,Steps:1193,Reward:3.91,Portfolio:4.91,Dividend:4.03,Triggers:[499, 20, 220, 20, 217, 166, 0], Actions:1142\n",
      "Episode:144,Epsilon:0.42,Steps:1193,Reward:3.64,Portfolio:4.64,Dividend:3.64,Triggers:[498, 22, 223, 24, 215, 162, 0], Actions:1144\n",
      "Episode:145,Epsilon:0.42,Steps:1193,Reward:3.71,Portfolio:4.71,Dividend:3.7,Triggers:[520, 27, 214, 20, 219, 152, 0], Actions:1152\n",
      "Episode:146,Epsilon:0.42,Steps:1193,Reward:3.69,Portfolio:4.69,Dividend:3.78,Triggers:[500, 26, 222, 19, 220, 162, 0], Actions:1149\n",
      "Episode:147,Epsilon:0.42,Steps:1193,Reward:3.69,Portfolio:4.69,Dividend:3.78,Triggers:[511, 27, 211, 16, 208, 161, 0], Actions:1134\n",
      "Episode:148,Epsilon:0.41,Steps:1193,Reward:3.18,Portfolio:4.18,Dividend:3.47,Triggers:[522, 25, 194, 20, 208, 179, 0], Actions:1148\n",
      "Episode:149,Epsilon:0.41,Steps:1193,Reward:3.38,Portfolio:4.38,Dividend:3.69,Triggers:[502, 33, 203, 21, 212, 176, 0], Actions:1147\n",
      "Episode:150,Epsilon:0.41,Steps:1193,Reward:3.37,Portfolio:4.37,Dividend:3.49,Triggers:[500, 26, 216, 24, 233, 149, 0], Actions:1148\n",
      "Episode:151,Epsilon:0.41,Steps:1193,Reward:3.75,Portfolio:4.75,Dividend:3.7,Triggers:[511, 21, 225, 16, 206, 160, 0], Actions:1139\n",
      "Episode:152,Epsilon:0.4,Steps:1193,Reward:3.47,Portfolio:4.47,Dividend:3.76,Triggers:[492, 28, 207, 20, 213, 185, 0], Actions:1145\n",
      "Episode:153,Epsilon:0.4,Steps:1193,Reward:3.47,Portfolio:4.47,Dividend:3.64,Triggers:[497, 29, 226, 23, 202, 179, 0], Actions:1156\n",
      "Episode:154,Epsilon:0.4,Steps:1193,Reward:3.68,Portfolio:4.68,Dividend:3.78,Triggers:[506, 32, 215, 21, 199, 167, 0], Actions:1140\n",
      "Episode:155,Epsilon:0.4,Steps:1193,Reward:4.07,Portfolio:5.07,Dividend:4.14,Triggers:[504, 23, 224, 22, 207, 167, 0], Actions:1147\n",
      "Episode:156,Epsilon:0.39,Steps:1193,Reward:3.55,Portfolio:4.55,Dividend:4.22,Triggers:[481, 35, 215, 20, 223, 169, 1], Actions:1144\n",
      "Episode:157,Epsilon:0.39,Steps:1193,Reward:3.79,Portfolio:4.79,Dividend:3.84,Triggers:[499, 27, 225, 16, 203, 172, 0], Actions:1142\n",
      "Episode:158,Epsilon:0.39,Steps:1193,Reward:3.5,Portfolio:4.5,Dividend:3.67,Triggers:[481, 26, 221, 26, 217, 169, 0], Actions:1140\n",
      "Episode:159,Epsilon:0.39,Steps:1193,Reward:3.72,Portfolio:4.72,Dividend:3.83,Triggers:[513, 26, 228, 19, 212, 162, 0], Actions:1160\n",
      "Episode:160,Epsilon:0.39,Steps:1193,Reward:4.22,Portfolio:5.22,Dividend:4.19,Triggers:[495, 23, 230, 20, 212, 171, 0], Actions:1151\n",
      "Episode:161,Epsilon:0.38,Steps:1193,Reward:3.84,Portfolio:4.84,Dividend:4.0,Triggers:[510, 21, 224, 23, 205, 177, 0], Actions:1160\n",
      "Episode:162,Epsilon:0.38,Steps:1193,Reward:3.2,Portfolio:4.2,Dividend:4.04,Triggers:[506, 32, 208, 26, 207, 172, 1], Actions:1152\n",
      "Episode:163,Epsilon:0.38,Steps:1193,Reward:3.89,Portfolio:4.89,Dividend:3.98,Triggers:[519, 26, 198, 21, 208, 170, 0], Actions:1142\n",
      "Episode:164,Epsilon:0.38,Steps:1193,Reward:3.09,Portfolio:4.09,Dividend:3.8,Triggers:[505, 26, 222, 18, 196, 185, 1], Actions:1153\n",
      "Episode:165,Epsilon:0.37,Steps:1193,Reward:3.6,Portfolio:4.6,Dividend:3.71,Triggers:[507, 29, 214, 23, 209, 166, 0], Actions:1148\n",
      "Episode:166,Epsilon:0.37,Steps:1193,Reward:2.7,Portfolio:3.7,Dividend:3.35,Triggers:[528, 30, 208, 14, 187, 176, 1], Actions:1144\n",
      "Episode:167,Epsilon:0.37,Steps:1193,Reward:3.84,Portfolio:4.84,Dividend:3.84,Triggers:[513, 27, 224, 22, 207, 150, 0], Actions:1143\n",
      "Episode:168,Epsilon:0.37,Steps:1193,Reward:3.96,Portfolio:4.96,Dividend:3.94,Triggers:[510, 24, 227, 15, 199, 174, 0], Actions:1149\n",
      "Episode:169,Epsilon:0.36,Steps:1193,Reward:3.76,Portfolio:4.76,Dividend:3.86,Triggers:[503, 29, 215, 24, 224, 160, 0], Actions:1155\n",
      "Episode:170,Epsilon:0.36,Steps:1193,Reward:3.68,Portfolio:4.68,Dividend:3.83,Triggers:[503, 30, 214, 20, 220, 176, 0], Actions:1163\n",
      "Episode:171,Epsilon:0.36,Steps:1193,Reward:3.79,Portfolio:4.79,Dividend:3.79,Triggers:[512, 21, 206, 20, 219, 168, 0], Actions:1146\n",
      "Episode:172,Epsilon:0.36,Steps:1193,Reward:3.82,Portfolio:4.82,Dividend:3.96,Triggers:[497, 32, 219, 16, 207, 175, 0], Actions:1146\n",
      "Episode:173,Epsilon:0.36,Steps:1193,Reward:3.58,Portfolio:4.58,Dividend:3.63,Triggers:[523, 21, 217, 23, 213, 164, 0], Actions:1161\n",
      "Episode:174,Epsilon:0.35,Steps:1193,Reward:3.72,Portfolio:4.72,Dividend:3.85,Triggers:[505, 20, 221, 21, 225, 168, 0], Actions:1160\n",
      "Episode:175,Epsilon:0.35,Steps:1193,Reward:3.74,Portfolio:4.74,Dividend:3.86,Triggers:[499, 27, 213, 18, 219, 180, 0], Actions:1156\n",
      "Episode:176,Epsilon:0.35,Steps:1193,Reward:3.92,Portfolio:4.92,Dividend:3.92,Triggers:[509, 26, 210, 15, 231, 165, 0], Actions:1156\n",
      "Episode:177,Epsilon:0.35,Steps:1193,Reward:4.0,Portfolio:5.0,Dividend:4.11,Triggers:[504, 33, 223, 15, 203, 175, 0], Actions:1153\n",
      "Episode:178,Epsilon:0.35,Steps:1193,Reward:4.1,Portfolio:5.1,Dividend:4.29,Triggers:[498, 30, 213, 20, 209, 175, 0], Actions:1145\n",
      "Episode:179,Epsilon:0.34,Steps:1193,Reward:3.62,Portfolio:4.62,Dividend:3.61,Triggers:[520, 25, 230, 19, 210, 158, 0], Actions:1162\n",
      "Episode:180,Epsilon:0.34,Steps:1193,Reward:3.77,Portfolio:4.77,Dividend:3.95,Triggers:[506, 24, 220, 26, 214, 174, 0], Actions:1164\n",
      "Episode:181,Epsilon:0.34,Steps:1193,Reward:3.76,Portfolio:4.76,Dividend:3.83,Triggers:[505, 28, 228, 22, 215, 169, 0], Actions:1167\n",
      "Episode:182,Epsilon:0.34,Steps:1193,Reward:3.91,Portfolio:4.91,Dividend:4.08,Triggers:[512, 39, 225, 18, 207, 149, 0], Actions:1150\n",
      "Episode:183,Epsilon:0.34,Steps:1193,Reward:3.56,Portfolio:4.56,Dividend:3.72,Triggers:[502, 28, 209, 23, 207, 188, 0], Actions:1157\n",
      "Episode:184,Epsilon:0.33,Steps:1193,Reward:3.73,Portfolio:4.73,Dividend:4.02,Triggers:[511, 27, 202, 24, 208, 180, 0], Actions:1152\n",
      "Episode:185,Epsilon:0.33,Steps:1193,Reward:4.23,Portfolio:5.23,Dividend:4.26,Triggers:[500, 30, 231, 20, 213, 163, 0], Actions:1157\n",
      "Episode:186,Epsilon:0.33,Steps:1193,Reward:2.9,Portfolio:3.9,Dividend:3.78,Triggers:[516, 34, 208, 21, 202, 183, 1], Actions:1165\n",
      "Episode:187,Epsilon:0.33,Steps:1193,Reward:3.77,Portfolio:4.77,Dividend:3.81,Triggers:[522, 21, 202, 18, 207, 181, 0], Actions:1151\n",
      "Episode:188,Epsilon:0.33,Steps:1193,Reward:3.52,Portfolio:4.52,Dividend:4.0,Triggers:[517, 27, 218, 20, 214, 159, 1], Actions:1156\n",
      "Episode:189,Epsilon:0.32,Steps:1193,Reward:3.82,Portfolio:4.82,Dividend:3.91,Triggers:[498, 31, 237, 21, 211, 166, 0], Actions:1164\n"
     ]
    },
    {
     "name": "stdout",
     "output_type": "stream",
     "text": [
      "Episode:190,Epsilon:0.32,Steps:1193,Reward:3.7,Portfolio:4.7,Dividend:3.82,Triggers:[515, 31, 212, 16, 216, 168, 0], Actions:1158\n",
      "Episode:191,Epsilon:0.32,Steps:1193,Reward:3.26,Portfolio:4.26,Dividend:3.91,Triggers:[506, 27, 212, 18, 213, 178, 1], Actions:1155\n",
      "Episode:192,Epsilon:0.32,Steps:1193,Reward:3.75,Portfolio:4.75,Dividend:3.8,Triggers:[497, 29, 228, 17, 207, 184, 0], Actions:1162\n",
      "Episode:193,Epsilon:0.32,Steps:1193,Reward:4.13,Portfolio:5.13,Dividend:4.25,Triggers:[500, 26, 242, 22, 201, 170, 0], Actions:1161\n",
      "Episode:194,Epsilon:0.31,Steps:1193,Reward:3.73,Portfolio:4.73,Dividend:3.94,Triggers:[504, 28, 210, 20, 210, 183, 0], Actions:1155\n",
      "Episode:195,Epsilon:0.31,Steps:1193,Reward:4.07,Portfolio:5.07,Dividend:4.15,Triggers:[504, 32, 224, 19, 203, 174, 0], Actions:1156\n",
      "Episode:196,Epsilon:0.31,Steps:1193,Reward:3.45,Portfolio:4.45,Dividend:3.72,Triggers:[502, 32, 224, 25, 203, 175, 0], Actions:1161\n",
      "Episode:197,Epsilon:0.31,Steps:1193,Reward:3.68,Portfolio:4.68,Dividend:3.76,Triggers:[514, 22, 212, 17, 214, 171, 0], Actions:1150\n",
      "Episode:198,Epsilon:0.31,Steps:1193,Reward:4.35,Portfolio:5.35,Dividend:4.35,Triggers:[520, 25, 225, 19, 215, 162, 0], Actions:1166\n",
      "Episode:199,Epsilon:0.31,Steps:1193,Reward:3.97,Portfolio:4.97,Dividend:3.99,Triggers:[509, 31, 234, 16, 217, 160, 0], Actions:1167\n",
      "Episode:200,Epsilon:0.3,Steps:1193,Reward:4.13,Portfolio:5.13,Dividend:4.1,Triggers:[505, 25, 220, 16, 218, 169, 0], Actions:1153\n",
      "Episode:201,Epsilon:0.3,Steps:1193,Reward:3.77,Portfolio:4.77,Dividend:3.87,Triggers:[519, 22, 225, 23, 194, 174, 0], Actions:1157\n",
      "Episode:202,Epsilon:0.3,Steps:1193,Reward:3.92,Portfolio:4.92,Dividend:4.0,Triggers:[516, 24, 214, 16, 206, 180, 0], Actions:1156\n",
      "Episode:203,Epsilon:0.3,Steps:1193,Reward:3.64,Portfolio:4.64,Dividend:3.83,Triggers:[506, 32, 241, 28, 198, 157, 0], Actions:1162\n",
      "Episode:204,Epsilon:0.3,Steps:1193,Reward:4.27,Portfolio:5.27,Dividend:4.18,Triggers:[507, 23, 225, 19, 217, 166, 0], Actions:1157\n",
      "Episode:205,Epsilon:0.29,Steps:1193,Reward:3.88,Portfolio:4.88,Dividend:3.86,Triggers:[507, 28, 221, 21, 226, 156, 0], Actions:1159\n",
      "Episode:206,Epsilon:0.29,Steps:1193,Reward:4.0,Portfolio:5.0,Dividend:3.97,Triggers:[519, 30, 219, 16, 228, 160, 0], Actions:1172\n",
      "Episode:207,Epsilon:0.29,Steps:1193,Reward:4.31,Portfolio:5.31,Dividend:4.32,Triggers:[521, 25, 235, 18, 207, 159, 0], Actions:1165\n",
      "Episode:208,Epsilon:0.29,Steps:1193,Reward:3.93,Portfolio:4.93,Dividend:3.91,Triggers:[509, 26, 234, 18, 208, 157, 0], Actions:1152\n",
      "Episode:209,Epsilon:0.29,Steps:1193,Reward:4.0,Portfolio:5.0,Dividend:3.99,Triggers:[536, 25, 207, 15, 206, 171, 0], Actions:1160\n",
      "Episode:210,Epsilon:0.29,Steps:1193,Reward:4.0,Portfolio:5.0,Dividend:4.09,Triggers:[495, 29, 230, 23, 219, 165, 0], Actions:1161\n",
      "Episode:211,Epsilon:0.28,Steps:1193,Reward:4.21,Portfolio:5.21,Dividend:4.15,Triggers:[513, 23, 224, 17, 222, 164, 0], Actions:1163\n",
      "Episode:212,Epsilon:0.28,Steps:1193,Reward:3.75,Portfolio:4.75,Dividend:3.85,Triggers:[515, 24, 221, 20, 219, 164, 0], Actions:1163\n",
      "Episode:213,Epsilon:0.28,Steps:1193,Reward:4.04,Portfolio:5.04,Dividend:4.13,Triggers:[514, 27, 228, 18, 214, 168, 0], Actions:1169\n",
      "Episode:214,Epsilon:0.28,Steps:1193,Reward:4.14,Portfolio:5.14,Dividend:4.06,Triggers:[518, 26, 219, 14, 217, 167, 0], Actions:1161\n",
      "Episode:215,Epsilon:0.28,Steps:1193,Reward:3.98,Portfolio:4.98,Dividend:4.1,Triggers:[510, 31, 217, 23, 227, 159, 0], Actions:1167\n",
      "Episode:216,Epsilon:0.28,Steps:1193,Reward:4.0,Portfolio:5.0,Dividend:4.1,Triggers:[498, 30, 216, 16, 227, 177, 0], Actions:1164\n",
      "Episode:217,Epsilon:0.27,Steps:1193,Reward:3.87,Portfolio:4.87,Dividend:3.89,Triggers:[513, 30, 237, 20, 199, 168, 0], Actions:1167\n",
      "Episode:218,Epsilon:0.27,Steps:1193,Reward:3.92,Portfolio:4.92,Dividend:3.97,Triggers:[510, 30, 227, 20, 210, 166, 0], Actions:1163\n",
      "Episode:219,Epsilon:0.27,Steps:1193,Reward:4.1,Portfolio:5.1,Dividend:4.19,Triggers:[509, 25, 226, 17, 221, 168, 0], Actions:1166\n",
      "Episode:220,Epsilon:0.27,Steps:1193,Reward:4.01,Portfolio:5.01,Dividend:4.16,Triggers:[496, 30, 223, 19, 227, 173, 0], Actions:1168\n",
      "Episode:221,Epsilon:0.27,Steps:1193,Reward:4.35,Portfolio:5.35,Dividend:4.38,Triggers:[524, 22, 224, 18, 205, 163, 0], Actions:1156\n",
      "Episode:222,Epsilon:0.27,Steps:1193,Reward:3.69,Portfolio:4.69,Dividend:3.7,Triggers:[523, 26, 223, 16, 205, 176, 0], Actions:1169\n",
      "Episode:223,Epsilon:0.26,Steps:1193,Reward:4.06,Portfolio:5.06,Dividend:3.99,Triggers:[510, 29, 230, 13, 214, 164, 0], Actions:1160\n",
      "Episode:224,Epsilon:0.26,Steps:1193,Reward:4.13,Portfolio:5.13,Dividend:4.11,Triggers:[520, 29, 216, 16, 211, 166, 0], Actions:1158\n",
      "Episode:225,Epsilon:0.26,Steps:1193,Reward:3.98,Portfolio:4.98,Dividend:4.0,Triggers:[515, 23, 221, 21, 210, 172, 0], Actions:1162\n",
      "Episode:226,Epsilon:0.26,Steps:1193,Reward:3.98,Portfolio:4.98,Dividend:4.11,Triggers:[501, 38, 232, 18, 206, 169, 0], Actions:1164\n",
      "Episode:227,Epsilon:0.26,Steps:1193,Reward:3.93,Portfolio:4.93,Dividend:4.05,Triggers:[498, 26, 243, 21, 207, 175, 0], Actions:1170\n",
      "Episode:228,Epsilon:0.26,Steps:1193,Reward:3.92,Portfolio:4.92,Dividend:3.96,Triggers:[513, 30, 234, 17, 207, 171, 0], Actions:1172\n",
      "Episode:229,Epsilon:0.26,Steps:1193,Reward:3.83,Portfolio:4.83,Dividend:3.89,Triggers:[504, 31, 224, 21, 217, 160, 0], Actions:1157\n",
      "Episode:230,Epsilon:0.25,Steps:1193,Reward:4.29,Portfolio:5.29,Dividend:4.13,Triggers:[518, 21, 226, 18, 219, 161, 0], Actions:1163\n",
      "Episode:231,Epsilon:0.25,Steps:1193,Reward:4.19,Portfolio:5.19,Dividend:4.29,Triggers:[514, 30, 227, 23, 213, 161, 0], Actions:1168\n",
      "Episode:232,Epsilon:0.25,Steps:1193,Reward:3.77,Portfolio:4.77,Dividend:3.81,Triggers:[528, 22, 212, 18, 207, 172, 0], Actions:1159\n",
      "Episode:233,Epsilon:0.25,Steps:1193,Reward:4.01,Portfolio:5.01,Dividend:4.11,Triggers:[507, 27, 226, 20, 205, 186, 0], Actions:1171\n",
      "Episode:234,Epsilon:0.25,Steps:1193,Reward:3.36,Portfolio:4.36,Dividend:3.82,Triggers:[522, 26, 209, 15, 227, 170, 1], Actions:1170\n",
      "Episode:235,Epsilon:0.25,Steps:1193,Reward:4.0,Portfolio:5.0,Dividend:4.12,Triggers:[506, 27, 231, 26, 214, 166, 0], Actions:1170\n",
      "Episode:236,Epsilon:0.24,Steps:1193,Reward:4.25,Portfolio:5.25,Dividend:4.25,Triggers:[511, 27, 241, 20, 203, 163, 0], Actions:1165\n",
      "Episode:237,Epsilon:0.24,Steps:1193,Reward:3.9,Portfolio:4.9,Dividend:3.94,Triggers:[519, 31, 227, 17, 209, 170, 0], Actions:1173\n",
      "Episode:238,Epsilon:0.24,Steps:1193,Reward:3.69,Portfolio:4.69,Dividend:3.77,Triggers:[522, 26, 221, 17, 211, 168, 0], Actions:1165\n",
      "Episode:239,Epsilon:0.24,Steps:1193,Reward:3.6,Portfolio:4.6,Dividend:3.8,Triggers:[516, 28, 219, 17, 203, 179, 0], Actions:1162\n",
      "Episode:240,Epsilon:0.24,Steps:1193,Reward:4.1,Portfolio:5.1,Dividend:4.2,Triggers:[521, 23, 232, 21, 200, 171, 0], Actions:1168\n",
      "Episode:241,Epsilon:0.24,Steps:1193,Reward:4.26,Portfolio:5.26,Dividend:4.19,Triggers:[523, 23, 219, 22, 219, 153, 0], Actions:1159\n",
      "Episode:242,Epsilon:0.24,Steps:1193,Reward:4.25,Portfolio:5.25,Dividend:4.29,Triggers:[508, 23, 233, 20, 213, 171, 0], Actions:1168\n",
      "Episode:243,Epsilon:0.23,Steps:1193,Reward:3.82,Portfolio:4.82,Dividend:3.87,Triggers:[528, 29, 213, 14, 204, 179, 0], Actions:1167\n",
      "Episode:244,Epsilon:0.23,Steps:1193,Reward:4.05,Portfolio:5.05,Dividend:4.2,Triggers:[519, 32, 229, 17, 197, 172, 0], Actions:1166\n",
      "Episode:245,Epsilon:0.23,Steps:1193,Reward:3.99,Portfolio:4.99,Dividend:4.1,Triggers:[520, 27, 224, 21, 201, 179, 0], Actions:1172\n",
      "Episode:246,Epsilon:0.23,Steps:1193,Reward:4.03,Portfolio:5.03,Dividend:4.04,Triggers:[527, 24, 217, 18, 218, 170, 0], Actions:1174\n",
      "Episode:247,Epsilon:0.23,Steps:1193,Reward:4.11,Portfolio:5.11,Dividend:4.13,Triggers:[538, 29, 223, 17, 204, 158, 0], Actions:1169\n",
      "Episode:248,Epsilon:0.23,Steps:1193,Reward:4.08,Portfolio:5.08,Dividend:4.02,Triggers:[511, 25, 224, 18, 226, 168, 0], Actions:1172\n",
      "Episode:249,Epsilon:0.23,Steps:1193,Reward:3.52,Portfolio:4.52,Dividend:4.04,Triggers:[520, 28, 229, 20, 205, 170, 1], Actions:1173\n",
      "Episode:250,Epsilon:0.23,Steps:1193,Reward:4.11,Portfolio:5.11,Dividend:4.17,Triggers:[534, 30, 224, 15, 205, 163, 0], Actions:1171\n",
      "Episode:251,Epsilon:0.22,Steps:1193,Reward:3.95,Portfolio:4.95,Dividend:4.15,Triggers:[512, 28, 236, 22, 199, 171, 0], Actions:1168\n",
      "Episode:252,Epsilon:0.22,Steps:1193,Reward:3.72,Portfolio:4.72,Dividend:3.82,Triggers:[525, 27, 217, 18, 205, 178, 0], Actions:1170\n"
     ]
    },
    {
     "name": "stdout",
     "output_type": "stream",
     "text": [
      "Episode:253,Epsilon:0.22,Steps:1193,Reward:4.15,Portfolio:5.15,Dividend:4.3,Triggers:[508, 32, 225, 18, 214, 176, 0], Actions:1173\n",
      "Episode:254,Epsilon:0.22,Steps:1193,Reward:4.27,Portfolio:5.27,Dividend:4.26,Triggers:[514, 21, 231, 17, 215, 169, 0], Actions:1167\n",
      "Episode:255,Epsilon:0.22,Steps:1193,Reward:4.46,Portfolio:5.46,Dividend:4.39,Triggers:[502, 18, 236, 19, 210, 175, 0], Actions:1160\n",
      "Episode:256,Epsilon:0.22,Steps:1193,Reward:4.03,Portfolio:5.03,Dividend:4.14,Triggers:[525, 30, 218, 19, 201, 166, 0], Actions:1159\n",
      "Episode:257,Epsilon:0.22,Steps:1193,Reward:4.03,Portfolio:5.03,Dividend:4.07,Triggers:[543, 24, 213, 21, 217, 153, 0], Actions:1171\n",
      "Episode:258,Epsilon:0.21,Steps:1193,Reward:4.16,Portfolio:5.16,Dividend:4.17,Triggers:[523, 22, 222, 19, 212, 172, 0], Actions:1170\n",
      "Episode:259,Epsilon:0.21,Steps:1193,Reward:4.11,Portfolio:5.11,Dividend:3.99,Triggers:[529, 17, 235, 21, 218, 149, 0], Actions:1169\n",
      "Episode:260,Epsilon:0.21,Steps:1193,Reward:4.07,Portfolio:5.07,Dividend:4.17,Triggers:[543, 20, 221, 21, 199, 175, 0], Actions:1179\n",
      "Episode:261,Epsilon:0.21,Steps:1193,Reward:3.95,Portfolio:4.95,Dividend:4.07,Triggers:[515, 23, 221, 16, 196, 200, 0], Actions:1171\n",
      "Episode:262,Epsilon:0.21,Steps:1193,Reward:4.21,Portfolio:5.21,Dividend:4.31,Triggers:[511, 20, 218, 20, 228, 175, 0], Actions:1172\n",
      "Episode:263,Epsilon:0.21,Steps:1193,Reward:4.11,Portfolio:5.11,Dividend:4.09,Triggers:[519, 19, 220, 21, 221, 168, 0], Actions:1168\n",
      "Episode:264,Epsilon:0.21,Steps:1193,Reward:4.18,Portfolio:5.18,Dividend:4.21,Triggers:[519, 21, 212, 21, 221, 176, 0], Actions:1170\n",
      "Episode:265,Epsilon:0.21,Steps:1193,Reward:4.12,Portfolio:5.12,Dividend:4.09,Triggers:[520, 25, 227, 20, 218, 157, 0], Actions:1167\n",
      "Episode:266,Epsilon:0.2,Steps:1193,Reward:4.06,Portfolio:5.06,Dividend:4.23,Triggers:[487, 33, 232, 17, 227, 175, 0], Actions:1171\n",
      "Episode:267,Epsilon:0.2,Steps:1193,Reward:4.31,Portfolio:5.31,Dividend:4.43,Triggers:[500, 21, 221, 25, 231, 173, 0], Actions:1171\n",
      "Episode:268,Epsilon:0.2,Steps:1193,Reward:3.57,Portfolio:4.57,Dividend:4.15,Triggers:[494, 29, 233, 21, 228, 170, 1], Actions:1176\n",
      "Episode:269,Epsilon:0.2,Steps:1193,Reward:4.16,Portfolio:5.16,Dividend:4.16,Triggers:[500, 29, 245, 22, 213, 157, 0], Actions:1166\n",
      "Episode:270,Epsilon:0.2,Steps:1193,Reward:4.04,Portfolio:5.04,Dividend:4.08,Triggers:[530, 25, 235, 25, 205, 153, 0], Actions:1173\n",
      "Episode:271,Epsilon:0.2,Steps:1193,Reward:3.75,Portfolio:4.75,Dividend:4.17,Triggers:[522, 26, 239, 18, 203, 161, 1], Actions:1170\n",
      "Episode:272,Epsilon:0.2,Steps:1193,Reward:4.01,Portfolio:5.01,Dividend:4.02,Triggers:[526, 23, 225, 25, 214, 162, 0], Actions:1175\n",
      "Episode:273,Epsilon:0.2,Steps:1193,Reward:3.85,Portfolio:4.85,Dividend:3.88,Triggers:[521, 30, 213, 19, 228, 165, 0], Actions:1176\n",
      "Episode:274,Epsilon:0.2,Steps:1193,Reward:3.97,Portfolio:4.97,Dividend:4.09,Triggers:[505, 32, 233, 22, 215, 171, 0], Actions:1178\n",
      "Episode:275,Epsilon:0.19,Steps:1193,Reward:4.35,Portfolio:5.35,Dividend:4.4,Triggers:[490, 27, 240, 21, 225, 168, 0], Actions:1171\n",
      "Episode:276,Epsilon:0.19,Steps:1193,Reward:4.09,Portfolio:5.09,Dividend:4.21,Triggers:[513, 28, 227, 22, 213, 169, 0], Actions:1172\n",
      "Episode:277,Epsilon:0.19,Steps:1193,Reward:3.37,Portfolio:4.37,Dividend:4.13,Triggers:[505, 38, 220, 23, 214, 167, 1], Actions:1168\n",
      "Episode:278,Epsilon:0.19,Steps:1193,Reward:4.19,Portfolio:5.19,Dividend:4.23,Triggers:[513, 27, 222, 20, 222, 161, 0], Actions:1165\n",
      "Episode:279,Epsilon:0.19,Steps:1193,Reward:4.06,Portfolio:5.06,Dividend:4.13,Triggers:[530, 30, 230, 22, 201, 157, 0], Actions:1170\n",
      "Episode:280,Epsilon:0.19,Steps:1193,Reward:3.8,Portfolio:4.8,Dividend:3.87,Triggers:[524, 30, 212, 18, 225, 167, 0], Actions:1176\n",
      "Episode:281,Epsilon:0.19,Steps:1193,Reward:4.18,Portfolio:5.18,Dividend:4.25,Triggers:[504, 25, 218, 20, 228, 182, 0], Actions:1177\n",
      "Episode:282,Epsilon:0.19,Steps:1193,Reward:3.9,Portfolio:4.9,Dividend:3.98,Triggers:[518, 34, 226, 25, 214, 154, 0], Actions:1171\n",
      "Episode:283,Epsilon:0.18,Steps:1193,Reward:4.08,Portfolio:5.08,Dividend:4.18,Triggers:[504, 28, 230, 18, 228, 170, 0], Actions:1178\n",
      "Episode:284,Epsilon:0.18,Steps:1193,Reward:3.75,Portfolio:4.75,Dividend:3.86,Triggers:[507, 28, 220, 22, 222, 172, 0], Actions:1171\n",
      "Episode:285,Epsilon:0.18,Steps:1193,Reward:3.83,Portfolio:4.83,Dividend:3.77,Triggers:[519, 33, 222, 18, 217, 161, 0], Actions:1170\n",
      "Episode:286,Epsilon:0.18,Steps:1193,Reward:3.88,Portfolio:4.88,Dividend:4.03,Triggers:[520, 23, 226, 24, 207, 182, 0], Actions:1182\n",
      "Episode:287,Epsilon:0.18,Steps:1193,Reward:4.01,Portfolio:5.01,Dividend:4.11,Triggers:[525, 21, 222, 25, 209, 163, 0], Actions:1165\n",
      "Episode:288,Epsilon:0.18,Steps:1193,Reward:3.96,Portfolio:4.96,Dividend:4.01,Triggers:[510, 22, 215, 24, 217, 175, 0], Actions:1163\n",
      "Episode:289,Epsilon:0.18,Steps:1193,Reward:4.12,Portfolio:5.12,Dividend:4.21,Triggers:[509, 28, 233, 19, 215, 179, 0], Actions:1183\n",
      "Episode:290,Epsilon:0.18,Steps:1193,Reward:3.88,Portfolio:4.88,Dividend:4.07,Triggers:[506, 35, 234, 20, 214, 170, 0], Actions:1179\n",
      "Episode:291,Epsilon:0.18,Steps:1193,Reward:4.13,Portfolio:5.13,Dividend:4.21,Triggers:[500, 34, 225, 18, 225, 171, 0], Actions:1173\n",
      "Episode:292,Epsilon:0.18,Steps:1193,Reward:4.13,Portfolio:5.13,Dividend:4.07,Triggers:[502, 20, 242, 22, 222, 171, 0], Actions:1179\n",
      "Episode:293,Epsilon:0.17,Steps:1193,Reward:3.99,Portfolio:4.99,Dividend:4.13,Triggers:[498, 27, 226, 26, 213, 183, 0], Actions:1173\n",
      "Episode:294,Epsilon:0.17,Steps:1193,Reward:3.97,Portfolio:4.97,Dividend:4.18,Triggers:[501, 34, 225, 27, 215, 177, 0], Actions:1179\n",
      "Episode:295,Epsilon:0.17,Steps:1193,Reward:4.11,Portfolio:5.11,Dividend:4.1,Triggers:[511, 20, 220, 18, 231, 176, 0], Actions:1176\n",
      "Episode:296,Epsilon:0.17,Steps:1193,Reward:4.19,Portfolio:5.19,Dividend:4.16,Triggers:[515, 18, 226, 20, 219, 177, 0], Actions:1175\n",
      "Episode:297,Epsilon:0.17,Steps:1193,Reward:3.59,Portfolio:4.59,Dividend:4.06,Triggers:[511, 24, 225, 18, 220, 174, 1], Actions:1173\n",
      "Episode:298,Epsilon:0.17,Steps:1193,Reward:3.28,Portfolio:4.28,Dividend:3.91,Triggers:[514, 24, 217, 24, 222, 173, 1], Actions:1175\n",
      "Episode:299,Epsilon:0.17,Steps:1193,Reward:3.69,Portfolio:4.69,Dividend:3.85,Triggers:[494, 27, 231, 24, 219, 179, 0], Actions:1174\n",
      "Episode:300,Epsilon:0.17,Steps:1193,Reward:4.1,Portfolio:5.1,Dividend:4.19,Triggers:[500, 26, 238, 25, 213, 176, 0], Actions:1178\n",
      "Episode:301,Epsilon:0.17,Steps:1193,Reward:4.15,Portfolio:5.15,Dividend:4.2,Triggers:[496, 25, 234, 21, 224, 171, 0], Actions:1171\n",
      "Episode:302,Epsilon:0.17,Steps:1193,Reward:4.15,Portfolio:5.15,Dividend:4.14,Triggers:[507, 19, 221, 23, 234, 171, 0], Actions:1175\n",
      "Episode:303,Epsilon:0.16,Steps:1193,Reward:4.03,Portfolio:5.03,Dividend:4.07,Triggers:[508, 29, 241, 22, 217, 159, 0], Actions:1176\n",
      "Episode:304,Epsilon:0.16,Steps:1193,Reward:3.93,Portfolio:4.93,Dividend:3.96,Triggers:[514, 29, 230, 18, 209, 170, 0], Actions:1170\n",
      "Episode:305,Epsilon:0.16,Steps:1193,Reward:4.11,Portfolio:5.11,Dividend:4.02,Triggers:[518, 27, 226, 19, 227, 160, 0], Actions:1177\n",
      "Episode:306,Epsilon:0.16,Steps:1193,Reward:4.19,Portfolio:5.19,Dividend:4.2,Triggers:[516, 25, 231, 23, 212, 162, 0], Actions:1169\n",
      "Episode:307,Epsilon:0.16,Steps:1193,Reward:4.16,Portfolio:5.16,Dividend:4.19,Triggers:[499, 28, 239, 16, 216, 169, 0], Actions:1167\n",
      "Episode:308,Epsilon:0.16,Steps:1193,Reward:3.71,Portfolio:4.71,Dividend:4.15,Triggers:[508, 25, 239, 16, 223, 165, 1], Actions:1177\n",
      "Episode:309,Epsilon:0.16,Steps:1193,Reward:3.98,Portfolio:4.98,Dividend:4.04,Triggers:[512, 31, 231, 20, 215, 169, 0], Actions:1178\n",
      "Episode:310,Epsilon:0.16,Steps:1193,Reward:3.5,Portfolio:4.5,Dividend:4.07,Triggers:[518, 27, 229, 23, 213, 170, 1], Actions:1181\n",
      "Episode:311,Epsilon:0.16,Steps:1193,Reward:4.23,Portfolio:5.23,Dividend:4.32,Triggers:[506, 28, 227, 20, 226, 170, 0], Actions:1177\n",
      "Episode:312,Epsilon:0.16,Steps:1193,Reward:4.13,Portfolio:5.13,Dividend:4.3,Triggers:[490, 31, 234, 23, 213, 178, 0], Actions:1169\n",
      "Episode:313,Epsilon:0.15,Steps:1193,Reward:4.17,Portfolio:5.17,Dividend:4.17,Triggers:[511, 24, 233, 23, 214, 176, 0], Actions:1181\n",
      "Episode:314,Epsilon:0.15,Steps:1193,Reward:4.2,Portfolio:5.2,Dividend:4.15,Triggers:[513, 25, 236, 24, 216, 159, 0], Actions:1173\n",
      "Episode:315,Epsilon:0.15,Steps:1193,Reward:3.86,Portfolio:4.86,Dividend:3.85,Triggers:[522, 26, 229, 19, 216, 165, 0], Actions:1177\n"
     ]
    },
    {
     "name": "stdout",
     "output_type": "stream",
     "text": [
      "Episode:316,Epsilon:0.15,Steps:1193,Reward:4.15,Portfolio:5.15,Dividend:4.13,Triggers:[508, 23, 240, 19, 213, 174, 0], Actions:1177\n",
      "Episode:317,Epsilon:0.15,Steps:1193,Reward:4.11,Portfolio:5.11,Dividend:4.09,Triggers:[516, 26, 227, 23, 227, 161, 0], Actions:1180\n",
      "Episode:318,Epsilon:0.15,Steps:1193,Reward:4.19,Portfolio:5.19,Dividend:4.2,Triggers:[515, 24, 238, 19, 215, 173, 0], Actions:1184\n",
      "Episode:319,Epsilon:0.15,Steps:1193,Reward:4.2,Portfolio:5.2,Dividend:4.21,Triggers:[510, 29, 227, 20, 220, 174, 0], Actions:1180\n",
      "Episode:320,Epsilon:0.15,Steps:1193,Reward:3.99,Portfolio:4.99,Dividend:4.03,Triggers:[525, 26, 218, 15, 215, 180, 0], Actions:1179\n",
      "Episode:321,Epsilon:0.15,Steps:1193,Reward:3.89,Portfolio:4.89,Dividend:4.0,Triggers:[527, 24, 225, 23, 211, 170, 0], Actions:1180\n",
      "Episode:322,Epsilon:0.15,Steps:1193,Reward:4.06,Portfolio:5.06,Dividend:4.08,Triggers:[520, 29, 225, 17, 225, 168, 0], Actions:1184\n",
      "Episode:323,Epsilon:0.15,Steps:1193,Reward:4.1,Portfolio:5.1,Dividend:4.09,Triggers:[532, 22, 222, 21, 201, 177, 0], Actions:1175\n",
      "Episode:324,Epsilon:0.14,Steps:1193,Reward:4.3,Portfolio:5.3,Dividend:4.19,Triggers:[514, 12, 242, 22, 220, 169, 0], Actions:1179\n",
      "Episode:325,Epsilon:0.14,Steps:1193,Reward:4.25,Portfolio:5.25,Dividend:4.16,Triggers:[504, 15, 246, 21, 226, 165, 0], Actions:1177\n",
      "Episode:326,Epsilon:0.14,Steps:1193,Reward:4.18,Portfolio:5.18,Dividend:4.19,Triggers:[504, 26, 238, 21, 224, 167, 0], Actions:1180\n",
      "Episode:327,Epsilon:0.14,Steps:1193,Reward:4.16,Portfolio:5.16,Dividend:4.25,Triggers:[489, 30, 239, 19, 218, 182, 0], Actions:1177\n",
      "Episode:328,Epsilon:0.14,Steps:1193,Reward:4.28,Portfolio:5.28,Dividend:4.16,Triggers:[525, 22, 239, 16, 220, 159, 0], Actions:1181\n",
      "Episode:329,Epsilon:0.14,Steps:1193,Reward:4.45,Portfolio:5.45,Dividend:4.3,Triggers:[511, 23, 242, 19, 211, 156, 0], Actions:1162\n",
      "Episode:330,Epsilon:0.14,Steps:1193,Reward:4.38,Portfolio:5.38,Dividend:4.28,Triggers:[518, 23, 229, 15, 216, 170, 0], Actions:1171\n",
      "Episode:331,Epsilon:0.14,Steps:1193,Reward:4.3,Portfolio:5.3,Dividend:4.23,Triggers:[517, 25, 243, 20, 207, 173, 0], Actions:1185\n",
      "Episode:332,Epsilon:0.14,Steps:1193,Reward:4.29,Portfolio:5.29,Dividend:4.26,Triggers:[509, 20, 243, 24, 208, 169, 0], Actions:1173\n",
      "Episode:333,Epsilon:0.14,Steps:1193,Reward:4.2,Portfolio:5.2,Dividend:4.22,Triggers:[501, 23, 241, 23, 219, 168, 0], Actions:1175\n",
      "Episode:334,Epsilon:0.14,Steps:1193,Reward:4.26,Portfolio:5.26,Dividend:4.22,Triggers:[518, 28, 235, 18, 215, 161, 0], Actions:1175\n",
      "Episode:335,Epsilon:0.14,Steps:1193,Reward:4.14,Portfolio:5.14,Dividend:4.16,Triggers:[491, 28, 246, 17, 228, 168, 0], Actions:1178\n",
      "Episode:336,Epsilon:0.13,Steps:1193,Reward:4.32,Portfolio:5.32,Dividend:4.32,Triggers:[521, 25, 232, 19, 223, 157, 0], Actions:1177\n",
      "Episode:337,Epsilon:0.13,Steps:1193,Reward:4.38,Portfolio:5.38,Dividend:4.36,Triggers:[512, 24, 242, 18, 218, 166, 0], Actions:1180\n",
      "Episode:338,Epsilon:0.13,Steps:1193,Reward:4.3,Portfolio:5.3,Dividend:4.31,Triggers:[498, 25, 243, 20, 222, 172, 0], Actions:1180\n",
      "Episode:339,Epsilon:0.13,Steps:1193,Reward:4.3,Portfolio:5.3,Dividend:4.26,Triggers:[513, 23, 232, 22, 231, 164, 0], Actions:1185\n",
      "Episode:340,Epsilon:0.13,Steps:1193,Reward:4.36,Portfolio:5.36,Dividend:4.22,Triggers:[543, 23, 227, 14, 211, 159, 0], Actions:1177\n",
      "Episode:341,Epsilon:0.13,Steps:1193,Reward:4.05,Portfolio:5.05,Dividend:4.11,Triggers:[509, 25, 239, 15, 219, 169, 0], Actions:1176\n",
      "Episode:342,Epsilon:0.13,Steps:1193,Reward:4.33,Portfolio:5.33,Dividend:4.41,Triggers:[501, 26, 235, 19, 233, 169, 0], Actions:1183\n",
      "Episode:343,Epsilon:0.13,Steps:1193,Reward:4.28,Portfolio:5.28,Dividend:4.21,Triggers:[519, 24, 235, 17, 228, 161, 0], Actions:1184\n",
      "Episode:344,Epsilon:0.13,Steps:1193,Reward:4.36,Portfolio:5.36,Dividend:4.3,Triggers:[493, 31, 247, 20, 239, 152, 0], Actions:1182\n",
      "Episode:345,Epsilon:0.13,Steps:1193,Reward:4.28,Portfolio:5.28,Dividend:4.29,Triggers:[511, 27, 244, 24, 216, 157, 0], Actions:1179\n",
      "Episode:346,Epsilon:0.13,Steps:1193,Reward:4.36,Portfolio:5.36,Dividend:4.36,Triggers:[492, 22, 233, 20, 234, 176, 0], Actions:1177\n",
      "Episode:347,Epsilon:0.13,Steps:1193,Reward:4.31,Portfolio:5.31,Dividend:4.35,Triggers:[503, 28, 237, 18, 227, 169, 0], Actions:1182\n",
      "Episode:348,Epsilon:0.13,Steps:1193,Reward:4.25,Portfolio:5.25,Dividend:4.27,Triggers:[501, 27, 246, 22, 220, 161, 0], Actions:1177\n",
      "Episode:349,Epsilon:0.12,Steps:1193,Reward:4.21,Portfolio:5.21,Dividend:4.16,Triggers:[514, 28, 240, 17, 216, 161, 0], Actions:1176\n",
      "Episode:350,Epsilon:0.12,Steps:1193,Reward:4.39,Portfolio:5.39,Dividend:4.37,Triggers:[494, 21, 248, 20, 230, 165, 0], Actions:1178\n",
      "Episode:351,Epsilon:0.12,Steps:1193,Reward:4.3,Portfolio:5.3,Dividend:4.24,Triggers:[516, 24, 236, 18, 216, 164, 0], Actions:1174\n",
      "Episode:352,Epsilon:0.12,Steps:1193,Reward:4.24,Portfolio:5.24,Dividend:4.26,Triggers:[512, 26, 243, 21, 220, 164, 0], Actions:1186\n",
      "Episode:353,Epsilon:0.12,Steps:1193,Reward:4.28,Portfolio:5.28,Dividend:4.18,Triggers:[508, 26, 244, 16, 229, 159, 0], Actions:1182\n",
      "Episode:354,Epsilon:0.12,Steps:1193,Reward:4.19,Portfolio:5.19,Dividend:4.2,Triggers:[525, 31, 225, 19, 224, 149, 0], Actions:1173\n",
      "Episode:355,Epsilon:0.12,Steps:1193,Reward:4.19,Portfolio:5.19,Dividend:4.14,Triggers:[523, 24, 232, 23, 218, 159, 0], Actions:1179\n",
      "Episode:356,Epsilon:0.12,Steps:1193,Reward:4.31,Portfolio:5.31,Dividend:4.3,Triggers:[523, 19, 230, 21, 224, 167, 0], Actions:1184\n",
      "Episode:357,Epsilon:0.12,Steps:1193,Reward:4.14,Portfolio:5.14,Dividend:4.19,Triggers:[530, 23, 219, 23, 213, 175, 0], Actions:1183\n",
      "Episode:358,Epsilon:0.12,Steps:1193,Reward:4.07,Portfolio:5.07,Dividend:4.12,Triggers:[514, 23, 226, 21, 219, 179, 0], Actions:1182\n",
      "Episode:359,Epsilon:0.12,Steps:1193,Reward:4.34,Portfolio:5.34,Dividend:4.23,Triggers:[522, 32, 241, 17, 216, 152, 0], Actions:1180\n",
      "Episode:360,Epsilon:0.12,Steps:1193,Reward:4.25,Portfolio:5.25,Dividend:4.27,Triggers:[508, 23, 229, 20, 224, 177, 0], Actions:1181\n",
      "Episode:361,Epsilon:0.12,Steps:1193,Reward:4.26,Portfolio:5.26,Dividend:4.29,Triggers:[493, 29, 235, 19, 232, 172, 0], Actions:1180\n",
      "Episode:362,Epsilon:0.12,Steps:1193,Reward:4.18,Portfolio:5.18,Dividend:4.13,Triggers:[516, 24, 239, 21, 220, 160, 0], Actions:1180\n",
      "Episode:363,Epsilon:0.11,Steps:1193,Reward:4.08,Portfolio:5.08,Dividend:4.18,Triggers:[492, 26, 231, 20, 231, 178, 0], Actions:1178\n",
      "Episode:364,Epsilon:0.11,Steps:1193,Reward:4.16,Portfolio:5.16,Dividend:4.15,Triggers:[502, 26, 238, 16, 223, 179, 0], Actions:1184\n",
      "Episode:365,Epsilon:0.11,Steps:1193,Reward:3.96,Portfolio:4.96,Dividend:4.07,Triggers:[511, 27, 216, 22, 227, 181, 0], Actions:1184\n",
      "Episode:366,Epsilon:0.11,Steps:1193,Reward:4.05,Portfolio:5.05,Dividend:4.03,Triggers:[506, 28, 239, 20, 226, 163, 0], Actions:1182\n",
      "Episode:367,Epsilon:0.11,Steps:1193,Reward:4.01,Portfolio:5.01,Dividend:4.0,Triggers:[510, 29, 229, 22, 232, 159, 0], Actions:1181\n",
      "Episode:368,Epsilon:0.11,Steps:1193,Reward:4.28,Portfolio:5.28,Dividend:4.19,Triggers:[497, 26, 241, 18, 236, 162, 0], Actions:1180\n",
      "Episode:369,Epsilon:0.11,Steps:1193,Reward:4.18,Portfolio:5.18,Dividend:4.19,Triggers:[502, 31, 237, 16, 223, 173, 0], Actions:1182\n",
      "Episode:370,Epsilon:0.11,Steps:1193,Reward:4.11,Portfolio:5.11,Dividend:4.15,Triggers:[509, 23, 230, 17, 222, 183, 0], Actions:1184\n",
      "Episode:371,Epsilon:0.11,Steps:1193,Reward:4.17,Portfolio:5.17,Dividend:4.13,Triggers:[519, 26, 233, 20, 215, 166, 0], Actions:1179\n",
      "Episode:372,Epsilon:0.11,Steps:1193,Reward:3.91,Portfolio:4.91,Dividend:4.06,Triggers:[507, 33, 238, 23, 202, 170, 0], Actions:1173\n",
      "Episode:373,Epsilon:0.11,Steps:1193,Reward:3.98,Portfolio:4.98,Dividend:4.0,Triggers:[507, 27, 242, 24, 218, 163, 0], Actions:1181\n",
      "Episode:374,Epsilon:0.11,Steps:1193,Reward:4.0,Portfolio:5.0,Dividend:4.09,Triggers:[502, 27, 229, 20, 233, 168, 0], Actions:1179\n",
      "Episode:375,Epsilon:0.11,Steps:1193,Reward:4.1,Portfolio:5.1,Dividend:4.12,Triggers:[503, 27, 227, 16, 228, 183, 0], Actions:1184\n",
      "Episode:376,Epsilon:0.11,Steps:1193,Reward:4.11,Portfolio:5.11,Dividend:4.07,Triggers:[507, 23, 240, 16, 211, 188, 0], Actions:1185\n",
      "Episode:377,Epsilon:0.11,Steps:1193,Reward:4.11,Portfolio:5.11,Dividend:4.12,Triggers:[509, 27, 231, 17, 217, 178, 0], Actions:1179\n",
      "Episode:378,Epsilon:0.1,Steps:1193,Reward:4.08,Portfolio:5.08,Dividend:4.09,Triggers:[518, 24, 228, 18, 221, 175, 0], Actions:1184\n"
     ]
    },
    {
     "name": "stdout",
     "output_type": "stream",
     "text": [
      "Episode:379,Epsilon:0.1,Steps:1193,Reward:4.12,Portfolio:5.12,Dividend:4.14,Triggers:[502, 29, 236, 22, 226, 166, 0], Actions:1181\n",
      "Episode:380,Epsilon:0.1,Steps:1193,Reward:4.29,Portfolio:5.29,Dividend:4.22,Triggers:[491, 27, 238, 18, 238, 167, 0], Actions:1179\n",
      "Episode:381,Epsilon:0.1,Steps:1193,Reward:4.34,Portfolio:5.34,Dividend:4.26,Triggers:[505, 27, 246, 17, 221, 169, 0], Actions:1185\n",
      "Episode:382,Epsilon:0.1,Steps:1193,Reward:4.21,Portfolio:5.21,Dividend:4.26,Triggers:[503, 24, 241, 22, 222, 166, 0], Actions:1178\n",
      "Episode:383,Epsilon:0.1,Steps:1193,Reward:4.22,Portfolio:5.22,Dividend:4.23,Triggers:[510, 23, 237, 23, 214, 169, 0], Actions:1176\n",
      "Episode:384,Epsilon:0.1,Steps:1193,Reward:4.21,Portfolio:5.21,Dividend:4.23,Triggers:[496, 26, 244, 19, 224, 173, 0], Actions:1182\n",
      "Episode:385,Epsilon:0.1,Steps:1193,Reward:4.16,Portfolio:5.16,Dividend:4.14,Triggers:[505, 28, 251, 20, 225, 156, 0], Actions:1185\n",
      "Episode:386,Epsilon:0.1,Steps:1193,Reward:4.24,Portfolio:5.24,Dividend:4.33,Triggers:[491, 27, 243, 17, 219, 187, 0], Actions:1184\n",
      "Episode:387,Epsilon:0.1,Steps:1193,Reward:4.32,Portfolio:5.32,Dividend:4.31,Triggers:[491, 21, 246, 18, 227, 179, 0], Actions:1182\n",
      "Episode:388,Epsilon:0.1,Steps:1193,Reward:4.3,Portfolio:5.3,Dividend:4.3,Triggers:[494, 22, 241, 21, 234, 172, 0], Actions:1184\n",
      "Episode:389,Epsilon:0.1,Steps:1193,Reward:4.31,Portfolio:5.31,Dividend:4.32,Triggers:[503, 29, 229, 20, 236, 165, 0], Actions:1182\n",
      "Episode:390,Epsilon:0.1,Steps:1193,Reward:4.17,Portfolio:5.17,Dividend:4.16,Triggers:[495, 33, 254, 24, 217, 157, 0], Actions:1180\n",
      "Episode:391,Epsilon:0.1,Steps:1193,Reward:4.19,Portfolio:5.19,Dividend:4.18,Triggers:[496, 27, 243, 24, 231, 163, 0], Actions:1184\n",
      "Episode:392,Epsilon:0.1,Steps:1193,Reward:4.14,Portfolio:5.14,Dividend:4.17,Triggers:[500, 28, 241, 25, 234, 153, 0], Actions:1181\n",
      "Episode:393,Epsilon:0.1,Steps:1193,Reward:4.32,Portfolio:5.32,Dividend:4.23,Triggers:[494, 22, 253, 23, 232, 158, 0], Actions:1182\n",
      "Episode:394,Epsilon:0.1,Steps:1193,Reward:4.14,Portfolio:5.14,Dividend:4.13,Triggers:[496, 33, 240, 19, 231, 165, 0], Actions:1184\n",
      "Episode:395,Epsilon:0.09,Steps:1193,Reward:4.15,Portfolio:5.15,Dividend:4.12,Triggers:[496, 31, 237, 20, 229, 166, 0], Actions:1179\n",
      "Episode:396,Epsilon:0.09,Steps:1193,Reward:3.97,Portfolio:4.97,Dividend:4.01,Triggers:[497, 31, 240, 20, 226, 166, 0], Actions:1180\n",
      "Episode:397,Epsilon:0.09,Steps:1193,Reward:4.31,Portfolio:5.31,Dividend:4.27,Triggers:[495, 25, 244, 18, 234, 169, 0], Actions:1185\n",
      "Episode:398,Epsilon:0.09,Steps:1193,Reward:4.3,Portfolio:5.3,Dividend:4.28,Triggers:[486, 26, 250, 20, 236, 168, 0], Actions:1186\n",
      "Episode:399,Epsilon:0.09,Steps:1193,Reward:4.09,Portfolio:5.09,Dividend:4.15,Triggers:[496, 31, 238, 24, 227, 168, 0], Actions:1184\n",
      "Episode:400,Epsilon:0.09,Steps:1193,Reward:4.17,Portfolio:5.17,Dividend:4.19,Triggers:[498, 33, 239, 17, 230, 166, 0], Actions:1183\n",
      "Episode:401,Epsilon:0.09,Steps:1193,Reward:3.62,Portfolio:4.62,Dividend:4.15,Triggers:[492, 30, 237, 20, 236, 169, 1], Actions:1185\n",
      "Episode:402,Epsilon:0.09,Steps:1193,Reward:4.14,Portfolio:5.14,Dividend:4.07,Triggers:[521, 29, 239, 19, 222, 155, 0], Actions:1185\n",
      "Episode:403,Epsilon:0.09,Steps:1193,Reward:4.16,Portfolio:5.16,Dividend:4.12,Triggers:[510, 25, 238, 19, 220, 170, 0], Actions:1182\n",
      "Episode:404,Epsilon:0.09,Steps:1193,Reward:4.31,Portfolio:5.31,Dividend:4.21,Triggers:[513, 20, 242, 20, 220, 171, 0], Actions:1186\n",
      "Episode:405,Epsilon:0.09,Steps:1193,Reward:3.95,Portfolio:4.95,Dividend:4.08,Triggers:[492, 27, 238, 21, 220, 181, 0], Actions:1179\n",
      "Episode:406,Epsilon:0.09,Steps:1193,Reward:4.09,Portfolio:5.09,Dividend:4.18,Triggers:[491, 29, 237, 20, 224, 179, 0], Actions:1180\n",
      "Episode:407,Epsilon:0.09,Steps:1193,Reward:4.28,Portfolio:5.28,Dividend:4.24,Triggers:[500, 25, 236, 16, 226, 180, 0], Actions:1183\n",
      "Episode:408,Epsilon:0.09,Steps:1193,Reward:3.62,Portfolio:4.62,Dividend:4.18,Triggers:[502, 28, 243, 19, 220, 173, 1], Actions:1186\n",
      "Episode:409,Epsilon:0.09,Steps:1193,Reward:4.3,Portfolio:5.3,Dividend:4.22,Triggers:[491, 22, 247, 20, 232, 170, 0], Actions:1182\n",
      "Episode:410,Epsilon:0.09,Steps:1193,Reward:4.25,Portfolio:5.25,Dividend:4.23,Triggers:[496, 23, 243, 17, 231, 173, 0], Actions:1183\n",
      "Episode:411,Epsilon:0.09,Steps:1193,Reward:4.06,Portfolio:5.06,Dividend:4.13,Triggers:[515, 26, 231, 21, 216, 175, 0], Actions:1184\n",
      "Episode:412,Epsilon:0.09,Steps:1193,Reward:4.15,Portfolio:5.15,Dividend:4.08,Triggers:[504, 29, 244, 18, 225, 168, 0], Actions:1188\n",
      "Episode:413,Epsilon:0.09,Steps:1193,Reward:4.16,Portfolio:5.16,Dividend:4.15,Triggers:[511, 28, 236, 19, 223, 170, 0], Actions:1187\n",
      "Episode:414,Epsilon:0.08,Steps:1193,Reward:4.24,Portfolio:5.24,Dividend:4.24,Triggers:[492, 28, 244, 19, 229, 168, 0], Actions:1180\n",
      "Episode:415,Epsilon:0.08,Steps:1193,Reward:4.25,Portfolio:5.25,Dividend:4.21,Triggers:[509, 27, 240, 19, 225, 165, 0], Actions:1185\n",
      "Episode:416,Epsilon:0.08,Steps:1193,Reward:3.79,Portfolio:4.79,Dividend:4.19,Triggers:[497, 27, 241, 18, 236, 169, 1], Actions:1189\n",
      "Episode:417,Epsilon:0.08,Steps:1193,Reward:4.19,Portfolio:5.19,Dividend:4.14,Triggers:[500, 26, 239, 19, 225, 175, 0], Actions:1184\n",
      "Episode:418,Epsilon:0.08,Steps:1193,Reward:4.23,Portfolio:5.23,Dividend:4.23,Triggers:[504, 23, 243, 19, 214, 180, 0], Actions:1183\n",
      "Episode:419,Epsilon:0.08,Steps:1193,Reward:3.59,Portfolio:4.59,Dividend:4.17,Triggers:[509, 25, 231, 22, 228, 171, 1], Actions:1187\n",
      "Episode:420,Epsilon:0.08,Steps:1193,Reward:4.2,Portfolio:5.2,Dividend:4.23,Triggers:[506, 24, 228, 20, 229, 174, 0], Actions:1181\n",
      "Episode:421,Epsilon:0.08,Steps:1193,Reward:4.14,Portfolio:5.14,Dividend:4.2,Triggers:[494, 23, 236, 19, 217, 190, 0], Actions:1179\n",
      "Episode:422,Epsilon:0.08,Steps:1193,Reward:4.22,Portfolio:5.22,Dividend:4.22,Triggers:[499, 21, 243, 23, 227, 175, 0], Actions:1188\n",
      "Episode:423,Epsilon:0.08,Steps:1193,Reward:4.34,Portfolio:5.34,Dividend:4.31,Triggers:[481, 28, 249, 18, 225, 184, 0], Actions:1185\n",
      "Episode:424,Epsilon:0.08,Steps:1193,Reward:4.31,Portfolio:5.31,Dividend:4.3,Triggers:[496, 27, 242, 17, 215, 184, 0], Actions:1181\n",
      "Episode:425,Epsilon:0.08,Steps:1193,Reward:4.16,Portfolio:5.16,Dividend:4.21,Triggers:[496, 27, 243, 19, 214, 184, 0], Actions:1183\n",
      "Episode:426,Epsilon:0.08,Steps:1193,Reward:4.31,Portfolio:5.31,Dividend:4.26,Triggers:[499, 25, 244, 20, 226, 167, 0], Actions:1181\n",
      "Episode:427,Epsilon:0.08,Steps:1193,Reward:4.11,Portfolio:5.11,Dividend:4.2,Triggers:[499, 25, 235, 19, 227, 179, 0], Actions:1184\n",
      "Episode:428,Epsilon:0.08,Steps:1193,Reward:4.31,Portfolio:5.31,Dividend:4.28,Triggers:[500, 29, 245, 20, 224, 166, 0], Actions:1184\n",
      "Episode:429,Epsilon:0.08,Steps:1193,Reward:4.14,Portfolio:5.14,Dividend:4.14,Triggers:[506, 30, 240, 19, 221, 168, 0], Actions:1184\n",
      "Episode:430,Epsilon:0.08,Steps:1193,Reward:4.18,Portfolio:5.18,Dividend:4.18,Triggers:[507, 25, 237, 24, 225, 168, 0], Actions:1186\n",
      "Episode:431,Epsilon:0.08,Steps:1193,Reward:4.2,Portfolio:5.2,Dividend:4.26,Triggers:[489, 27, 243, 20, 231, 178, 0], Actions:1188\n",
      "Episode:432,Epsilon:0.08,Steps:1193,Reward:4.16,Portfolio:5.16,Dividend:4.14,Triggers:[495, 25, 241, 20, 218, 184, 0], Actions:1183\n",
      "Episode:433,Epsilon:0.08,Steps:1193,Reward:4.11,Portfolio:5.11,Dividend:4.1,Triggers:[496, 23, 230, 18, 229, 188, 0], Actions:1184\n",
      "Episode:434,Epsilon:0.08,Steps:1193,Reward:4.18,Portfolio:5.18,Dividend:4.19,Triggers:[483, 27, 245, 18, 231, 180, 0], Actions:1184\n",
      "Episode:435,Epsilon:0.07,Steps:1193,Reward:4.17,Portfolio:5.17,Dividend:4.18,Triggers:[493, 26, 240, 19, 233, 174, 0], Actions:1185\n",
      "Episode:436,Epsilon:0.07,Steps:1193,Reward:4.34,Portfolio:5.34,Dividend:4.24,Triggers:[499, 19, 245, 19, 232, 166, 0], Actions:1180\n",
      "Episode:437,Epsilon:0.07,Steps:1193,Reward:4.22,Portfolio:5.22,Dividend:4.24,Triggers:[489, 25, 244, 21, 231, 173, 0], Actions:1183\n",
      "Episode:438,Epsilon:0.07,Steps:1193,Reward:4.24,Portfolio:5.24,Dividend:4.24,Triggers:[491, 27, 239, 20, 226, 178, 0], Actions:1181\n",
      "Episode:439,Epsilon:0.07,Steps:1193,Reward:4.32,Portfolio:5.32,Dividend:4.22,Triggers:[497, 24, 233, 18, 244, 167, 0], Actions:1183\n",
      "Episode:440,Epsilon:0.07,Steps:1193,Reward:4.29,Portfolio:5.29,Dividend:4.27,Triggers:[488, 29, 246, 21, 232, 166, 0], Actions:1182\n",
      "Episode:441,Epsilon:0.07,Steps:1193,Reward:4.28,Portfolio:5.28,Dividend:4.19,Triggers:[504, 24, 238, 20, 239, 162, 0], Actions:1187\n"
     ]
    },
    {
     "name": "stdout",
     "output_type": "stream",
     "text": [
      "Episode:442,Epsilon:0.07,Steps:1193,Reward:4.23,Portfolio:5.23,Dividend:4.23,Triggers:[511, 27, 233, 20, 225, 168, 0], Actions:1184\n",
      "Episode:443,Epsilon:0.07,Steps:1193,Reward:4.18,Portfolio:5.18,Dividend:4.19,Triggers:[496, 30, 237, 18, 229, 175, 0], Actions:1185\n",
      "Episode:444,Epsilon:0.07,Steps:1193,Reward:4.18,Portfolio:5.18,Dividend:4.24,Triggers:[498, 24, 230, 24, 237, 170, 0], Actions:1183\n",
      "Episode:445,Epsilon:0.07,Steps:1193,Reward:4.13,Portfolio:5.13,Dividend:4.1,Triggers:[490, 28, 233, 18, 239, 175, 0], Actions:1183\n",
      "Episode:446,Epsilon:0.07,Steps:1193,Reward:4.15,Portfolio:5.15,Dividend:4.14,Triggers:[500, 24, 230, 21, 232, 174, 0], Actions:1181\n",
      "Episode:447,Epsilon:0.07,Steps:1193,Reward:3.99,Portfolio:4.99,Dividend:4.03,Triggers:[510, 30, 231, 20, 221, 173, 0], Actions:1185\n",
      "Episode:448,Epsilon:0.07,Steps:1193,Reward:4.21,Portfolio:5.21,Dividend:4.19,Triggers:[512, 26, 233, 19, 226, 173, 0], Actions:1189\n",
      "Episode:449,Epsilon:0.07,Steps:1193,Reward:4.31,Portfolio:5.31,Dividend:4.26,Triggers:[507, 33, 242, 16, 219, 170, 0], Actions:1187\n",
      "Episode:450,Epsilon:0.07,Steps:1193,Reward:4.14,Portfolio:5.14,Dividend:4.11,Triggers:[520, 28, 230, 19, 222, 168, 0], Actions:1187\n",
      "\n"
     ]
    }
   ],
   "source": [
    "start_time = time.time()\n",
    "\n",
    "for episode in tqdm_notebook(range(EPISODES)):\n",
    "    # Write code here\n",
    "    terminal_state=False\n",
    "    #month_dividend=0\n",
    "    episode_steps=0\n",
    "    episode_reward=0\n",
    "    episode_dividend=0\n",
    "        \n",
    "    #set to random state at start of episode, state is [dataframe,array]\n",
    "    current_state = env.reset() #env.reset_random() \n",
    "    investment=current_state[1]\n",
    "    portfolio=investment\n",
    "\n",
    "    while not terminal_state:#done:\n",
    "        # Reshaping in the form of (batch_size), state_size for input to neural network\n",
    "        state_encod=env.state_encoder(current_state)\n",
    "        #state = np.reshape(state, [1, state_size])\n",
    "        \n",
    "        # get action for the current state and go one step in environment\n",
    "        action = agent.get_action(current_state,state_encod.reshape(-1,329,57)) \n",
    "        all_actions.append(env.action_space[action])\n",
    "        \n",
    "        next_state, reward, dividend, trig_count = env.action_success_fn(action,current_state)\n",
    "        reward=float(reward)\n",
    "        episode_reward+=reward\n",
    "        episode_steps+=1\n",
    "        episode_dividend+=dividend\n",
    "        \n",
    "        triggers[0]+=trig_count[0]\n",
    "        triggers[1]+=trig_count[1]\n",
    "        triggers[2]+=trig_count[2]\n",
    "        triggers[3]+=trig_count[3]\n",
    "        triggers[4]+=trig_count[4]\n",
    "        triggers[5]+=trig_count[5]\n",
    "        triggers[6]+=trig_count[6]\n",
    "\n",
    "        # save the sample <s, a, r, s'> \n",
    "        agent.append_sample(current_state, action, reward, next_state)\n",
    "\n",
    "        # Train the model by calling function agent.train_model after evey 5 sampling steps\n",
    "        if (episode_steps+1)%5==0:\n",
    "            agent.train_model()\n",
    "            \n",
    "        current_state = next_state\n",
    "        \n",
    "        if (env.get_date(current_state)>=pd.to_datetime(datetime.date(2019,1,1))) or (investment+episode_reward<=0.5*investment): #or (episode_steps>=23) : \n",
    "            #episodes are limited to 1 Jan 2019 only or 50% drop in portfolio value\n",
    "            terminal_state=True\n",
    "            \n",
    "    if terminal_state:     \n",
    "        portfolio+=episode_reward\n",
    "        all_episode_rewards.append(episode_reward) #saving the reward at end of each episode\n",
    "        all_episode_portfolio.append(portfolio)\n",
    "        all_triggers.append(triggers)\n",
    "        all_episode_dividends.append(episode_dividend)\n",
    "    \n",
    "    if (episode+1)%1==0:\n",
    "        episode_count=episode+1\n",
    "        elapsed_time = time.time() - start_time\n",
    "        print('Episode:{},Epsilon:{},Steps:{},Reward:{},Portfolio:{},Dividend:{},Triggers:{}, Actions:{}'.\n",
    "              format(episode_count,round(agent.epsilon,2),episode_steps,round(episode_reward,2),round(portfolio,2),round(episode_dividend,2),triggers, sum(triggers)))                \n",
    "    triggers=[0,0,0,0,0,0,0]"
   ]
  },
  {
   "cell_type": "code",
   "execution_count": 271,
   "metadata": {},
   "outputs": [
    {
     "name": "stdout",
     "output_type": "stream",
     "text": [
      "WARNING:tensorflow:From C:\\Users\\MSingh13\\Anaconda3\\lib\\site-packages\\tensorflow\\python\\training\\tracking\\tracking.py:111: Model.state_updates (from tensorflow.python.keras.engine.training) is deprecated and will be removed in a future version.\n",
      "Instructions for updating:\n",
      "This property should not be used in TensorFlow 2.0, as updates are applied automatically.\n",
      "WARNING:tensorflow:From C:\\Users\\MSingh13\\Anaconda3\\lib\\site-packages\\tensorflow\\python\\training\\tracking\\tracking.py:111: Layer.updates (from tensorflow.python.keras.engine.base_layer) is deprecated and will be removed in a future version.\n",
      "Instructions for updating:\n",
      "This property should not be used in TensorFlow 2.0, as updates are applied automatically.\n",
      "INFO:tensorflow:Assets written to: Final_agent_model_dqn_nn_450\\assets\n"
     ]
    }
   ],
   "source": [
    "#Saving agent weights; the above took 17 hrs to run\n",
    "agent.model.save('Final_agent_model_dqn_nn_450')"
   ]
  },
  {
   "cell_type": "code",
   "execution_count": 267,
   "metadata": {},
   "outputs": [],
   "source": [
    "agent.model.save_weights(\"Final_agent_dqn_nn_450.h5\")\n",
    "\n",
    "with open('Final_agent_dqn_nn_450_all_episode_rewards.pickle', 'wb') as handle:\n",
    "    pickle.dump(all_episode_rewards, handle, protocol=pickle.HIGHEST_PROTOCOL)\n",
    "    \n",
    "with open('Final_agent_dqn_nn_450_all_actions.pickle', 'wb') as handle:\n",
    "    pickle.dump(all_actions, handle, protocol=pickle.HIGHEST_PROTOCOL)\n",
    "\n",
    "with open('Final_agent_dqn_nn_450_all_triggers.pickle', 'wb') as handle:\n",
    "    pickle.dump(all_triggers, handle, protocol=pickle.HIGHEST_PROTOCOL)\n",
    "    \n",
    "with open('Final_agent_dqn_nn_450_all_dividends.pickle', 'wb') as handle:\n",
    "    pickle.dump(all_episode_dividends, handle, protocol=pickle.HIGHEST_PROTOCOL)"
   ]
  },
  {
   "cell_type": "code",
   "execution_count": 132,
   "metadata": {},
   "outputs": [
    {
     "data": {
      "image/png": "[encoded data removed]",
      "text/plain": [
       "<Figure size 1080x360 with 2 Axes>"
      ]
     },
     "metadata": {
      "needs_background": "light"
     },
     "output_type": "display_data"
    }
   ],
   "source": [
    "#Plotting test set reward and portfolio value to visualize convergence\n",
    "plt.figure(0, figsize=(15,5))\n",
    "plt.subplot(121)\n",
    "plt.plot(all_episode_rewards)\n",
    "plt.axhline(y=4.2, color='r', linestyle=':') #Drawing horizontal line at y=11\n",
    "plt.xlabel('Episodes')\n",
    "plt.ylabel('Episode Reward')\n",
    "plt.title('Episode Reward Convergence')\n",
    "          \n",
    "plt.subplot(122)\n",
    "plt.plot(all_episode_portfolio)\n",
    "plt.axhline(y=5.2, color='r', linestyle=':') #Drawing horizontal line at y=12\n",
    "plt.xlabel('Episodes')\n",
    "plt.ylabel('Episode Portfolio')\n",
    "plt.title('Episode Portfolio Convergence')        \n",
    "          \n",
    "plt.show()"
   ]
  },
  {
   "cell_type": "markdown",
   "metadata": {},
   "source": [
    "**RUNNING ON TEST SET**"
   ]
  },
  {
   "cell_type": "code",
   "execution_count": 18,
   "metadata": {},
   "outputs": [],
   "source": [
    "#Loading the ms_dict\n",
    "file3 = open(\"C:/Users/MSingh13/OneDrive - Schlumberger/IIIT/Dissertation/Hedging/Code/Heavy Runs/Static_Classification/market_state_scaled_dummy_dict.pickle\", \"rb\")\n",
    "ms_dict = pickle.load(file3)\n",
    "file3.close()"
   ]
  },
  {
   "cell_type": "code",
   "execution_count": 19,
   "metadata": {},
   "outputs": [],
   "source": [
    "#Getting initial state for Test set\n",
    "test_start=[ms_dict.get(pd.to_datetime(datetime.date(2019,1,2))),1.0,{'sell_date':'cash'}]"
   ]
  },
  {
   "cell_type": "code",
   "execution_count": 16,
   "metadata": {},
   "outputs": [],
   "source": [
    "#loading saved model for test data\n",
    "loaded_model = tf.keras.models.load_model('Final_agent_model_dqn_nn_450')"
   ]
  },
  {
   "cell_type": "code",
   "execution_count": 17,
   "metadata": {},
   "outputs": [],
   "source": [
    "def get_test_action(state, reshaped_encoded_state):\n",
    "    valid_actions=env.get_valid_actions(state)\n",
    "    valid_actions_idx=[env.action_space.index(i) for i in valid_actions]\n",
    "    q_value = loaded_model.predict(reshaped_encoded_state)\n",
    "    valid_q_vals=[q_value[0][i] for i in valid_actions_idx]\n",
    "    return valid_actions_idx[np.argmax(valid_q_vals)]"
   ]
  },
  {
   "cell_type": "code",
   "execution_count": 20,
   "metadata": {},
   "outputs": [
    {
     "data": {
      "text/plain": [
       "{'sell_date': 'cash'}"
      ]
     },
     "execution_count": 20,
     "metadata": {},
     "output_type": "execute_result"
    }
   ],
   "source": [
    "test_start[2]"
   ]
  },
  {
   "cell_type": "code",
   "execution_count": 21,
   "metadata": {
    "scrolled": true
   },
   "outputs": [],
   "source": [
    "#Running model on test data\n",
    "test_trig2=[0,0,0,0,0,0,0]\n",
    "episode_steps2=0\n",
    "episode_reward2=0\n",
    "episode_dividend2=0\n",
    "test_rewards2=[]\n",
    "test_portfolios2=[]\n",
    "step_rewards2=[]\n",
    "step_actions2=[]\n",
    "\n",
    "#set to state corresponding to first trading day after 1/1/2019 at start of episode, state is [dataframe,array]\n",
    "test_state = test_start.copy()\n",
    "test_investment=test_state[1]\n",
    "test_portfolio2=test_investment\n",
    "step2=0\n",
    "\n",
    "while (env.get_date(test_state)<=pd.to_datetime(datetime.date(2021,12,31))):#only or upto 31 Dec 2021\n",
    "        \n",
    "    # Reshaping in the form of (batch_size), state_size for input to neural network\n",
    "    state_encod=env.state_encoder(test_state)\n",
    "    #state = np.reshape(state, [1, state_size])\n",
    "        \n",
    "    # get action for the current state and go one step in environment\n",
    "    action = get_test_action(test_state,state_encod.reshape(-1,329,57)) #agent.get_action(test_state,state_encod.reshape(-1,329,57)) \n",
    "    step_actions2.append(action)\n",
    "    step2+=1\n",
    "    \n",
    "    next_state, reward, dividend, trig_count = env.action_success_fn(action,test_state)\n",
    "    episode_reward2+=reward\n",
    "    episode_steps2+=1\n",
    "    episode_dividend2+=dividend\n",
    "        \n",
    "    test_trig2[0]+=trig_count[0]\n",
    "    test_trig2[1]+=trig_count[1]\n",
    "    test_trig2[2]+=trig_count[2]\n",
    "    test_trig2[3]+=trig_count[3]\n",
    "    test_trig2[4]+=trig_count[4]\n",
    "    test_trig2[5]+=trig_count[5]\n",
    "    test_trig2[6]+=trig_count[6]\n",
    "\n",
    "    test_state = next_state  \n",
    "    step_rewards2.append(reward)\n",
    "    test_portfolio2+=reward\n",
    "    test_rewards2.append(episode_reward2) #saving the reward at end of each episode\n",
    "    test_portfolios2.append(test_portfolio2)"
   ]
  },
  {
   "cell_type": "code",
   "execution_count": 22,
   "metadata": {},
   "outputs": [
    {
     "data": {
      "text/plain": [
       "757"
      ]
     },
     "execution_count": 22,
     "metadata": {},
     "output_type": "execute_result"
    }
   ],
   "source": [
    "episode_steps2"
   ]
  },
  {
   "cell_type": "code",
   "execution_count": 23,
   "metadata": {},
   "outputs": [
    {
     "data": {
      "text/plain": [
       "2.2728787110474715"
      ]
     },
     "execution_count": 23,
     "metadata": {},
     "output_type": "execute_result"
    }
   ],
   "source": [
    "test_portfolios2[-1]"
   ]
  },
  {
   "cell_type": "code",
   "execution_count": 24,
   "metadata": {},
   "outputs": [
    {
     "data": {
      "text/plain": [
       "'ARR of model on Test Set with 450 episodes is 31.48%'"
      ]
     },
     "execution_count": 24,
     "metadata": {},
     "output_type": "execute_result"
    }
   ],
   "source": [
    "'ARR of model on Test Set with 450 episodes is {}%'.format(round(((((test_rewards2[-1]+1)/1)**(1/3)-1)*100),2))"
   ]
  },
  {
   "cell_type": "code",
   "execution_count": 34,
   "metadata": {},
   "outputs": [
    {
     "data": {
      "text/plain": [
       "2.527031956685298"
      ]
     },
     "execution_count": 34,
     "metadata": {},
     "output_type": "execute_result"
    }
   ],
   "source": [
    "#Sharpe Ratio\n",
    "t=36/3\n",
    "model_returns=[t*((test_portfolios2[i])**(21/i)-1) for i in range(21,757,21)]\n",
    "len(model_returns)\n",
    "((test_portfolios2[-1]**(1/3)-1)-0.0117)/np.std(model_returns)"
   ]
  },
  {
   "cell_type": "code",
   "execution_count": 35,
   "metadata": {},
   "outputs": [
    {
     "name": "stdout",
     "output_type": "stream",
     "text": [
      "There are 757 trading days in test set. The agent chooses to trade on 757 days only.\n"
     ]
    }
   ],
   "source": [
    "print('There are {} trading days in test set. The agent chooses to trade on {} days only.'.format(episode_steps2,np.sum(test_trig2)))"
   ]
  },
  {
   "cell_type": "code",
   "execution_count": 36,
   "metadata": {},
   "outputs": [
    {
     "name": "stdout",
     "output_type": "stream",
     "text": [
      "The total dividend captured by the agent is 1.59 while the total profit in final portfolio at end of 3 years is 1.27.\n",
      "This indicates that majority of the profits are captured from dividends while trading related losses bring it down. Despite this, the agent outperforms the S&P500 by more than 800 bps.\n"
     ]
    }
   ],
   "source": [
    "print('The total dividend captured by the agent is {} while the total profit in final portfolio at end of 3 years is {}.\\nThis indicates that majority of the profits are captured from dividends while trading related losses bring it down. Despite this, the agent outperforms the S&P500 by more than 800 bps.'\n",
    "      .format(round(episode_dividend2,2),round(test_rewards2[-1],2)))"
   ]
  },
  {
   "cell_type": "code",
   "execution_count": 37,
   "metadata": {},
   "outputs": [
    {
     "data": {
      "text/plain": [
       "281"
      ]
     },
     "execution_count": 37,
     "metadata": {},
     "output_type": "execute_result"
    }
   ],
   "source": [
    "test_portfolios2.index(max(test_portfolios2[:350]))"
   ]
  },
  {
   "cell_type": "code",
   "execution_count": 38,
   "metadata": {},
   "outputs": [
    {
     "data": {
      "text/plain": [
       "1.6409105152481198"
      ]
     },
     "execution_count": 38,
     "metadata": {},
     "output_type": "execute_result"
    }
   ],
   "source": [
    "min(test_portfolios2[280:400])"
   ]
  },
  {
   "cell_type": "code",
   "execution_count": 39,
   "metadata": {},
   "outputs": [
    {
     "data": {
      "text/plain": [
       "0.08136910753342233"
      ]
     },
     "execution_count": 39,
     "metadata": {},
     "output_type": "execute_result"
    }
   ],
   "source": [
    "#Max Drawdown\n",
    "(test_portfolios2[281]-min(test_portfolios2[280:400]))/test_portfolios2[281]"
   ]
  },
  {
   "cell_type": "code",
   "execution_count": 40,
   "metadata": {},
   "outputs": [
    {
     "data": {
      "text/plain": [
       "[377, 35, 141, 27, 99, 78, 0]"
      ]
     },
     "execution_count": 40,
     "metadata": {},
     "output_type": "execute_result"
    }
   ],
   "source": [
    "test_trig2"
   ]
  },
  {
   "cell_type": "code",
   "execution_count": 41,
   "metadata": {},
   "outputs": [
    {
     "data": {
      "text/plain": [
       "1.0"
      ]
     },
     "execution_count": 41,
     "metadata": {},
     "output_type": "execute_result"
    }
   ],
   "source": [
    "#Fraction of days traded\n",
    "sum(test_trig2)/episode_steps2"
   ]
  },
  {
   "cell_type": "code",
   "execution_count": 42,
   "metadata": {},
   "outputs": [
    {
     "data": {
      "image/png": "[encoded data removed]",
      "text/plain": [
       "<Figure size 1080x360 with 1 Axes>"
      ]
     },
     "metadata": {
      "needs_background": "light"
     },
     "output_type": "display_data"
    }
   ],
   "source": [
    "#Tracking inidividual episode total reward to check convergence\n",
    "plt.figure(figsize=(15,5))\n",
    "plt.plot(test_portfolios2)\n",
    "#plt.axhline(y=1800, color='r', linestyle=':') #Drawing horizontal line at y=1800\n",
    "plt.xlabel('Trading Days')\n",
    "plt.ylabel('Test Set Portfolio Value')\n",
    "plt.title('Test Set Model Performance after Training for 450 Episodes')\n",
    "plt.show()"
   ]
  },
  {
   "cell_type": "code",
   "execution_count": 43,
   "metadata": {},
   "outputs": [
    {
     "data": {
      "text/plain": [
       "272"
      ]
     },
     "execution_count": 43,
     "metadata": {},
     "output_type": "execute_result"
    }
   ],
   "source": [
    "step_rewards2.index(max(step_rewards2))"
   ]
  },
  {
   "cell_type": "code",
   "execution_count": 44,
   "metadata": {},
   "outputs": [
    {
     "data": {
      "text/plain": [
       "0.2609663034605274"
      ]
     },
     "execution_count": 44,
     "metadata": {},
     "output_type": "execute_result"
    }
   ],
   "source": [
    "step_rewards2[272]"
   ]
  },
  {
   "cell_type": "code",
   "execution_count": 45,
   "metadata": {},
   "outputs": [
    {
     "data": {
      "text/plain": [
       "'ARR of model without the outlier dividend payment in test set is 26.24% which also beats the S&P500 ARR for same time period'"
      ]
     },
     "execution_count": 45,
     "metadata": {},
     "output_type": "execute_result"
    }
   ],
   "source": [
    "'ARR of model without the outlier dividend payment in test set is {}% which also beats the S&P500 ARR for same time period'.format(round(((((test_portfolio2-step_rewards2[272])/1)**(1/3)-1)*100),2))"
   ]
  },
  {
   "cell_type": "code",
   "execution_count": 46,
   "metadata": {
    "scrolled": true
   },
   "outputs": [
    {
     "data": {
      "image/png": "[encoded data removed]",
      "text/plain": [
       "<Figure size 1080x360 with 1 Axes>"
      ]
     },
     "metadata": {
      "needs_background": "light"
     },
     "output_type": "display_data"
    }
   ],
   "source": [
    "plot_rew=[i for i in step_rewards2]\n",
    "plot_rew.remove(plot_rew[272])\n",
    "#Ensuring performance is consistent and not one-off big reward\n",
    "plt.figure(figsize=(15,5))\n",
    "plt.plot(plot_rew)\n",
    "plt.show()"
   ]
  },
  {
   "cell_type": "code",
   "execution_count": 318,
   "metadata": {},
   "outputs": [],
   "source": [
    "#saving portfolio values on test set as excel file\n",
    "pd.DataFrame(test_portfolios2).to_excel(\"dqn_test.xlsx\") "
   ]
  }
 ],
 "metadata": {
  "kernelspec": {
   "display_name": "Python 3",
   "language": "python",
   "name": "python3"
  },
  "language_info": {
   "codemirror_mode": {
    "name": "ipython",
    "version": 3
   },
   "file_extension": ".py",
   "mimetype": "text/x-python",
   "name": "python",
   "nbconvert_exporter": "python",
   "pygments_lexer": "ipython3",
   "version": "3.8.5"
  }
 },
 "nbformat": 4,
 "nbformat_minor": 2
}
